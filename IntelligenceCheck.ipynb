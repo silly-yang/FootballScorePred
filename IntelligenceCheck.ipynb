{
 "nbformat": 4,
 "nbformat_minor": 2,
 "metadata": {
  "language_info": {
   "name": "python",
   "codemirror_mode": {
    "name": "ipython",
    "version": 3
   }
  },
  "orig_nbformat": 2,
  "file_extension": ".py",
  "mimetype": "text/x-python",
  "name": "python",
  "npconvert_exporter": "python",
  "pygments_lexer": "ipython3",
  "version": 3
 },
 "cells": [
  {
   "cell_type": "code",
   "execution_count": null,
   "metadata": {},
   "outputs": [],
   "source": [
    "import pandas as pd"
   ]
  },
  {
   "cell_type": "code",
   "execution_count": null,
   "metadata": {},
   "outputs": [],
   "source": [
    "# 賽果\n",
    "matches = pd.read_csv(os.getcwd() + '/data/82/matches.csv')\n",
    "\n",
    "# 情報分析概率\n",
    "matches = pd.read_csv(os.getcwd() + '/data/82/matches.csv')"
   ]
  }
 ]
}