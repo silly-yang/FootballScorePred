{
 "nbformat": 4,
 "nbformat_minor": 2,
 "metadata": {
  "language_info": {
   "name": "python",
   "codemirror_mode": {
    "name": "ipython",
    "version": 3
   },
   "version": "3.7.4-final"
  },
  "orig_nbformat": 2,
  "file_extension": ".py",
  "mimetype": "text/x-python",
  "name": "python",
  "npconvert_exporter": "python",
  "pygments_lexer": "ipython3",
  "version": 3,
  "kernelspec": {
   "name": "python37464bitbaseconda481ecdb60cbc4a04bdc42cbc50444e04",
   "display_name": "Python 3.7.4 64-bit ('base': conda)"
  }
 },
 "cells": [
  {
   "cell_type": "code",
   "execution_count": 1,
   "metadata": {},
   "outputs": [],
   "source": [
    "import os\n",
    "import numpy as np\n",
    "import pandas as pd\n",
    "from datetime import datetime\n",
    "from scipy.stats import poisson  # 泊松分布"
   ]
  },
  {
   "cell_type": "code",
   "execution_count": 2,
   "metadata": {},
   "outputs": [],
   "source": [
    "# 英超使用(2018-2019)資料評估(2019-2020)賽季比分分布狀況\n",
    "# TODO 資料整理\n",
    "teams = pd.read_csv(os.getcwd() + '/data/82/teams.csv')\n",
    "teams.set_index([\"team_id\"], inplace=True)\n",
    "\n",
    "matches = pd.read_csv(os.getcwd() + '/data/82/matches.csv')\n",
    "lastSeason = matches[matches['season_id'] == 8433]\n",
    "curSeason = matches[matches['season_id'] == 9021]\n",
    "\n",
    "# 主客隊最大進球數\n",
    "homeMax = lastSeason['home_score'].max()\n",
    "awayMax = lastSeason['home_score'].max()\n",
    "\n",
    "# curSeason.set_index('match_id')\n",
    "curSeason = curSeason.loc[curSeason.loc[:, \"status\"] == 8]\n",
    "curSeason = curSeason.drop(columns=['home_half_score', 'home_red', 'home_yellow', 'home_corner','away_half_score', 'away_red', 'away_yellow', 'away_corner', 'season_id', 'season_name'])"
   ]
  },
  {
   "cell_type": "code",
   "execution_count": 3,
   "metadata": {},
   "outputs": [
    {
     "name": "stdout",
     "output_type": "stream",
     "text": "主場平均進球數: 1.568421052631579 球\n客場平均進球數: 1.2526315789473683 球\n"
    }
   ],
   "source": [
    "# TODO 計算平均進球數\n",
    "# 聯盟主隊平均主場進球數 = 主場賽季總進球數/比賽場數（賽季）\n",
    "seasonHomeAvg = lastSeason['home_score'].sum() / lastSeason.shape[0]\n",
    "# 聯盟主隊平均客場進球數 = 客場賽季總進球數/比賽場數（賽季）\n",
    "seasonAwayAvg = lastSeason['away_score'].sum() / lastSeason.shape[0]\n",
    "\n",
    "print('主場平均進球數: %s 球' % seasonHomeAvg)\n",
    "print('客場平均進球數: %s 球' % seasonAwayAvg)\n",
    "\n",
    "# TODO 統計資料\n",
    "# 隊伍為主場平均進球\n",
    "temp = lastSeason.groupby(['home_team'])['home_score', 'away_score'].sum()\n",
    "temp.index.rename('team_id')\n",
    "teams = teams.join(temp, on='team_id')\n",
    "teams = teams.rename(columns={\"home_score\": \"homeGetScore\", \"away_score\": \"homeLostScore\"})\n",
    "\n",
    "# 隊伍為主場總場次\n",
    "temp = lastSeason.groupby(['home_team']).size()\n",
    "temp.index.rename('team_id')\n",
    "temp = temp.rename('homeMatchCount')\n",
    "teams = teams.join(temp, on='team_id')\n",
    "\n",
    "# 隊伍為客場平均進球\n",
    "temp = lastSeason.groupby(['away_team'])['home_score', 'away_score'].sum()\n",
    "temp.index.rename('team_id')\n",
    "teams = teams.join(temp, on='team_id')\n",
    "teams = teams.rename(columns={\"home_score\": \"awayLostScore\", \"away_score\": \"awayGetScore\"})\n",
    "\n",
    "# 隊伍為客場總場次\n",
    "temp = lastSeason.groupby(['away_team']).size()\n",
    "temp.index.rename('team_id')\n",
    "temp = temp.rename('awayMatchCount')\n",
    "teams = teams.join(temp, on='team_id')\n",
    "\n",
    "# 删除有NaN rows\n",
    "teams = teams.dropna() "
   ]
  },
  {
   "cell_type": "code",
   "execution_count": 4,
   "metadata": {},
   "outputs": [],
   "source": [
    "# TODO 計算進攻率(上賽季)\n",
    "# 主隊主場平均進球數 = 主隊主場進球數 / 主場賽事場數。\n",
    "# 主隊主場平均進球數 / 聯盟賽季主場平均進球數\n",
    "teams['homeAttack'] =  teams['homeGetScore'] / teams['homeMatchCount'] / seasonHomeAvg\n",
    "teams['awayAttack'] =  teams['awayGetScore'] / teams['awayMatchCount'] / seasonAwayAvg\n",
    "\n",
    "# TODO 計算防守率(上賽季)\n",
    "# 客隊客場平均失球數 = 客隊客場失球數 / 客場賽事場數。\n",
    "# 客隊客場平均失球數 / 聯盟賽季客場平均失球數\n",
    "teams['homeDefense'] =  teams['homeLostScore'] / teams['homeMatchCount'] / seasonAwayAvg\n",
    "teams['awayDefense'] =  teams['awayLostScore'] / teams['awayMatchCount'] / seasonHomeAvg"
   ]
  },
  {
   "cell_type": "code",
   "execution_count": 5,
   "metadata": {},
   "outputs": [
    {
     "data": {
      "text/html": "<div>\n<style scoped>\n    .dataframe tbody tr th:only-of-type {\n        vertical-align: middle;\n    }\n\n    .dataframe tbody tr th {\n        vertical-align: top;\n    }\n\n    .dataframe thead th {\n        text-align: right;\n    }\n</style>\n<table border=\"1\" class=\"dataframe\">\n  <thead>\n    <tr style=\"text-align: right;\">\n      <th></th>\n      <th>Unnamed: 0</th>\n      <th>competition_id</th>\n      <th>short_name_zh</th>\n      <th>short_name_en</th>\n      <th>market_value</th>\n      <th>homeGetScore</th>\n      <th>homeLostScore</th>\n      <th>homeMatchCount</th>\n      <th>awayLostScore</th>\n      <th>awayGetScore</th>\n      <th>awayMatchCount</th>\n      <th>homeAttack</th>\n      <th>awayAttack</th>\n      <th>homeDefense</th>\n      <th>awayDefense</th>\n    </tr>\n    <tr>\n      <th>team_id</th>\n      <th></th>\n      <th></th>\n      <th></th>\n      <th></th>\n      <th></th>\n      <th></th>\n      <th></th>\n      <th></th>\n      <th></th>\n      <th></th>\n      <th></th>\n      <th></th>\n      <th></th>\n      <th></th>\n      <th></th>\n    </tr>\n  </thead>\n  <tbody>\n    <tr>\n      <td>10010</td>\n      <td>0</td>\n      <td>82</td>\n      <td>伯恩利</td>\n      <td>Burnley</td>\n      <td>198750000</td>\n      <td>24.0</td>\n      <td>32.0</td>\n      <td>19.0</td>\n      <td>36.0</td>\n      <td>21.0</td>\n      <td>19.0</td>\n      <td>0.805369</td>\n      <td>0.882353</td>\n      <td>1.344538</td>\n      <td>1.208054</td>\n    </tr>\n    <tr>\n      <td>10012</td>\n      <td>1</td>\n      <td>82</td>\n      <td>布莱顿</td>\n      <td>Brighton   Hove Albion</td>\n      <td>219600000</td>\n      <td>19.0</td>\n      <td>28.0</td>\n      <td>19.0</td>\n      <td>32.0</td>\n      <td>16.0</td>\n      <td>19.0</td>\n      <td>0.637584</td>\n      <td>0.672269</td>\n      <td>1.176471</td>\n      <td>1.073826</td>\n    </tr>\n    <tr>\n      <td>10022</td>\n      <td>3</td>\n      <td>82</td>\n      <td>沃特福德</td>\n      <td>Watford</td>\n      <td>235150000</td>\n      <td>26.0</td>\n      <td>28.0</td>\n      <td>19.0</td>\n      <td>31.0</td>\n      <td>26.0</td>\n      <td>19.0</td>\n      <td>0.872483</td>\n      <td>1.092437</td>\n      <td>1.176471</td>\n      <td>1.040268</td>\n    </tr>\n    <tr>\n      <td>10115</td>\n      <td>4</td>\n      <td>82</td>\n      <td>伯恩茅斯</td>\n      <td>Bournemouth AFC</td>\n      <td>334250000</td>\n      <td>30.0</td>\n      <td>25.0</td>\n      <td>19.0</td>\n      <td>45.0</td>\n      <td>26.0</td>\n      <td>19.0</td>\n      <td>1.006711</td>\n      <td>1.092437</td>\n      <td>1.050420</td>\n      <td>1.510067</td>\n    </tr>\n    <tr>\n      <td>10135</td>\n      <td>5</td>\n      <td>82</td>\n      <td>曼联</td>\n      <td>Manchester United</td>\n      <td>753250000</td>\n      <td>33.0</td>\n      <td>25.0</td>\n      <td>19.0</td>\n      <td>29.0</td>\n      <td>32.0</td>\n      <td>19.0</td>\n      <td>1.107383</td>\n      <td>1.344538</td>\n      <td>1.050420</td>\n      <td>0.973154</td>\n    </tr>\n    <tr>\n      <td>10136</td>\n      <td>6</td>\n      <td>82</td>\n      <td>纽卡斯尔联</td>\n      <td>Newcastle United</td>\n      <td>273580000</td>\n      <td>24.0</td>\n      <td>25.0</td>\n      <td>19.0</td>\n      <td>23.0</td>\n      <td>18.0</td>\n      <td>19.0</td>\n      <td>0.805369</td>\n      <td>0.756303</td>\n      <td>1.050420</td>\n      <td>0.771812</td>\n    </tr>\n    <tr>\n      <td>10176</td>\n      <td>7</td>\n      <td>82</td>\n      <td>西汉姆联</td>\n      <td>West Ham United</td>\n      <td>348750000</td>\n      <td>32.0</td>\n      <td>27.0</td>\n      <td>19.0</td>\n      <td>28.0</td>\n      <td>20.0</td>\n      <td>19.0</td>\n      <td>1.073826</td>\n      <td>0.840336</td>\n      <td>1.134454</td>\n      <td>0.939597</td>\n    </tr>\n    <tr>\n      <td>10180</td>\n      <td>8</td>\n      <td>82</td>\n      <td>切尔西</td>\n      <td>Chelsea</td>\n      <td>807000000</td>\n      <td>39.0</td>\n      <td>12.0</td>\n      <td>19.0</td>\n      <td>27.0</td>\n      <td>24.0</td>\n      <td>19.0</td>\n      <td>1.308725</td>\n      <td>1.008403</td>\n      <td>0.504202</td>\n      <td>0.906040</td>\n    </tr>\n    <tr>\n      <td>10181</td>\n      <td>9</td>\n      <td>82</td>\n      <td>曼城</td>\n      <td>Manchester City</td>\n      <td>1280000000</td>\n      <td>57.0</td>\n      <td>12.0</td>\n      <td>19.0</td>\n      <td>11.0</td>\n      <td>38.0</td>\n      <td>19.0</td>\n      <td>1.912752</td>\n      <td>1.596639</td>\n      <td>0.504202</td>\n      <td>0.369128</td>\n    </tr>\n    <tr>\n      <td>10182</td>\n      <td>10</td>\n      <td>82</td>\n      <td>南安普顿</td>\n      <td>Southampton</td>\n      <td>237000000</td>\n      <td>27.0</td>\n      <td>30.0</td>\n      <td>19.0</td>\n      <td>35.0</td>\n      <td>18.0</td>\n      <td>19.0</td>\n      <td>0.906040</td>\n      <td>0.756303</td>\n      <td>1.260504</td>\n      <td>1.174497</td>\n    </tr>\n    <tr>\n      <td>10183</td>\n      <td>11</td>\n      <td>82</td>\n      <td>热刺</td>\n      <td>Tottenham Hotspur</td>\n      <td>985000000</td>\n      <td>34.0</td>\n      <td>16.0</td>\n      <td>19.0</td>\n      <td>23.0</td>\n      <td>33.0</td>\n      <td>19.0</td>\n      <td>1.140940</td>\n      <td>1.386555</td>\n      <td>0.672269</td>\n      <td>0.771812</td>\n    </tr>\n    <tr>\n      <td>10215</td>\n      <td>13</td>\n      <td>82</td>\n      <td>阿森纳</td>\n      <td>Arsenal</td>\n      <td>690750000</td>\n      <td>42.0</td>\n      <td>16.0</td>\n      <td>19.0</td>\n      <td>35.0</td>\n      <td>31.0</td>\n      <td>19.0</td>\n      <td>1.409396</td>\n      <td>1.302521</td>\n      <td>0.672269</td>\n      <td>1.174497</td>\n    </tr>\n    <tr>\n      <td>10226</td>\n      <td>14</td>\n      <td>82</td>\n      <td>狼队</td>\n      <td>Wolves</td>\n      <td>333750000</td>\n      <td>28.0</td>\n      <td>21.0</td>\n      <td>19.0</td>\n      <td>25.0</td>\n      <td>19.0</td>\n      <td>19.0</td>\n      <td>0.939597</td>\n      <td>0.798319</td>\n      <td>0.882353</td>\n      <td>0.838926</td>\n    </tr>\n    <tr>\n      <td>10244</td>\n      <td>15</td>\n      <td>82</td>\n      <td>水晶宫</td>\n      <td>Crystal Palace</td>\n      <td>236550000</td>\n      <td>19.0</td>\n      <td>23.0</td>\n      <td>19.0</td>\n      <td>30.0</td>\n      <td>32.0</td>\n      <td>19.0</td>\n      <td>0.637584</td>\n      <td>1.344538</td>\n      <td>0.966387</td>\n      <td>1.006711</td>\n    </tr>\n    <tr>\n      <td>10247</td>\n      <td>16</td>\n      <td>82</td>\n      <td>莱斯特城</td>\n      <td>Leicester City</td>\n      <td>410250000</td>\n      <td>24.0</td>\n      <td>20.0</td>\n      <td>19.0</td>\n      <td>28.0</td>\n      <td>27.0</td>\n      <td>19.0</td>\n      <td>0.805369</td>\n      <td>1.134454</td>\n      <td>0.840336</td>\n      <td>0.939597</td>\n    </tr>\n    <tr>\n      <td>10249</td>\n      <td>17</td>\n      <td>82</td>\n      <td>利物浦</td>\n      <td>Liverpool</td>\n      <td>1070000000</td>\n      <td>55.0</td>\n      <td>10.0</td>\n      <td>19.0</td>\n      <td>12.0</td>\n      <td>34.0</td>\n      <td>19.0</td>\n      <td>1.845638</td>\n      <td>1.428571</td>\n      <td>0.420168</td>\n      <td>0.402685</td>\n    </tr>\n    <tr>\n      <td>10250</td>\n      <td>18</td>\n      <td>82</td>\n      <td>埃弗顿</td>\n      <td>Everton</td>\n      <td>506000000</td>\n      <td>30.0</td>\n      <td>21.0</td>\n      <td>19.0</td>\n      <td>25.0</td>\n      <td>24.0</td>\n      <td>19.0</td>\n      <td>1.006711</td>\n      <td>1.008403</td>\n      <td>0.882353</td>\n      <td>0.838926</td>\n    </tr>\n  </tbody>\n</table>\n</div>",
      "text/plain": "         Unnamed: 0  competition_id short_name_zh           short_name_en  \\\nteam_id                                                                     \n10010             0              82           伯恩利                 Burnley   \n10012             1              82           布莱顿  Brighton   Hove Albion   \n10022             3              82          沃特福德                 Watford   \n10115             4              82          伯恩茅斯         Bournemouth AFC   \n10135             5              82            曼联       Manchester United   \n10136             6              82         纽卡斯尔联        Newcastle United   \n10176             7              82          西汉姆联         West Ham United   \n10180             8              82           切尔西                 Chelsea   \n10181             9              82            曼城         Manchester City   \n10182            10              82          南安普顿             Southampton   \n10183            11              82            热刺       Tottenham Hotspur   \n10215            13              82           阿森纳                 Arsenal   \n10226            14              82            狼队                  Wolves   \n10244            15              82           水晶宫          Crystal Palace   \n10247            16              82          莱斯特城          Leicester City   \n10249            17              82           利物浦               Liverpool   \n10250            18              82           埃弗顿                 Everton   \n\n         market_value  homeGetScore  homeLostScore  homeMatchCount  \\\nteam_id                                                              \n10010       198750000          24.0           32.0            19.0   \n10012       219600000          19.0           28.0            19.0   \n10022       235150000          26.0           28.0            19.0   \n10115       334250000          30.0           25.0            19.0   \n10135       753250000          33.0           25.0            19.0   \n10136       273580000          24.0           25.0            19.0   \n10176       348750000          32.0           27.0            19.0   \n10180       807000000          39.0           12.0            19.0   \n10181      1280000000          57.0           12.0            19.0   \n10182       237000000          27.0           30.0            19.0   \n10183       985000000          34.0           16.0            19.0   \n10215       690750000          42.0           16.0            19.0   \n10226       333750000          28.0           21.0            19.0   \n10244       236550000          19.0           23.0            19.0   \n10247       410250000          24.0           20.0            19.0   \n10249      1070000000          55.0           10.0            19.0   \n10250       506000000          30.0           21.0            19.0   \n\n         awayLostScore  awayGetScore  awayMatchCount  homeAttack  awayAttack  \\\nteam_id                                                                        \n10010             36.0          21.0            19.0    0.805369    0.882353   \n10012             32.0          16.0            19.0    0.637584    0.672269   \n10022             31.0          26.0            19.0    0.872483    1.092437   \n10115             45.0          26.0            19.0    1.006711    1.092437   \n10135             29.0          32.0            19.0    1.107383    1.344538   \n10136             23.0          18.0            19.0    0.805369    0.756303   \n10176             28.0          20.0            19.0    1.073826    0.840336   \n10180             27.0          24.0            19.0    1.308725    1.008403   \n10181             11.0          38.0            19.0    1.912752    1.596639   \n10182             35.0          18.0            19.0    0.906040    0.756303   \n10183             23.0          33.0            19.0    1.140940    1.386555   \n10215             35.0          31.0            19.0    1.409396    1.302521   \n10226             25.0          19.0            19.0    0.939597    0.798319   \n10244             30.0          32.0            19.0    0.637584    1.344538   \n10247             28.0          27.0            19.0    0.805369    1.134454   \n10249             12.0          34.0            19.0    1.845638    1.428571   \n10250             25.0          24.0            19.0    1.006711    1.008403   \n\n         homeDefense  awayDefense  \nteam_id                            \n10010       1.344538     1.208054  \n10012       1.176471     1.073826  \n10022       1.176471     1.040268  \n10115       1.050420     1.510067  \n10135       1.050420     0.973154  \n10136       1.050420     0.771812  \n10176       1.134454     0.939597  \n10180       0.504202     0.906040  \n10181       0.504202     0.369128  \n10182       1.260504     1.174497  \n10183       0.672269     0.771812  \n10215       0.672269     1.174497  \n10226       0.882353     0.838926  \n10244       0.966387     1.006711  \n10247       0.840336     0.939597  \n10249       0.420168     0.402685  \n10250       0.882353     0.838926  "
     },
     "execution_count": 5,
     "metadata": {},
     "output_type": "execute_result"
    }
   ],
   "source": [
    "teams"
   ]
  },
  {
   "cell_type": "code",
   "execution_count": 6,
   "metadata": {},
   "outputs": [
    {
     "data": {
      "text/html": "<div>\n<style scoped>\n    .dataframe tbody tr th:only-of-type {\n        vertical-align: middle;\n    }\n\n    .dataframe tbody tr th {\n        vertical-align: top;\n    }\n\n    .dataframe thead th {\n        text-align: right;\n    }\n</style>\n<table border=\"1\" class=\"dataframe\">\n  <thead>\n    <tr style=\"text-align: right;\">\n      <th></th>\n      <th>Unnamed: 0</th>\n      <th>match_id</th>\n      <th>competition_id</th>\n      <th>status</th>\n      <th>open_date</th>\n      <th>home_team</th>\n      <th>away_team</th>\n      <th>home_rank</th>\n      <th>home_score</th>\n      <th>away_rank</th>\n      <th>away_score</th>\n      <th>homeAttack</th>\n      <th>homeDefense</th>\n      <th>awayAttack</th>\n      <th>awayDefense</th>\n      <th>lambdaHome</th>\n      <th>lambdaAway</th>\n    </tr>\n  </thead>\n  <tbody>\n    <tr>\n      <td>0</td>\n      <td>6108</td>\n      <td>2679314</td>\n      <td>82</td>\n      <td>8</td>\n      <td>1566664200</td>\n      <td>10249</td>\n      <td>10215</td>\n      <td>1</td>\n      <td>3</td>\n      <td>2</td>\n      <td>1</td>\n      <td>1.845638</td>\n      <td>0.420168</td>\n      <td>1.302521</td>\n      <td>1.174497</td>\n      <td>3.399859</td>\n      <td>0.685537</td>\n    </tr>\n    <tr>\n      <td>1</td>\n      <td>6239</td>\n      <td>2679939</td>\n      <td>82</td>\n      <td>8</td>\n      <td>1575921600</td>\n      <td>10176</td>\n      <td>10215</td>\n      <td>16</td>\n      <td>1</td>\n      <td>11</td>\n      <td>3</td>\n      <td>1.073826</td>\n      <td>1.134454</td>\n      <td>1.302521</td>\n      <td>1.174497</td>\n      <td>1.978100</td>\n      <td>1.850951</td>\n    </tr>\n    <tr>\n      <td>2</td>\n      <td>6128</td>\n      <td>2679334</td>\n      <td>82</td>\n      <td>8</td>\n      <td>1568561400</td>\n      <td>10022</td>\n      <td>10215</td>\n      <td>20</td>\n      <td>2</td>\n      <td>7</td>\n      <td>2</td>\n      <td>0.872483</td>\n      <td>1.176471</td>\n      <td>1.302521</td>\n      <td>1.174497</td>\n      <td>1.607206</td>\n      <td>1.919505</td>\n    </tr>\n    <tr>\n      <td>3</td>\n      <td>6192</td>\n      <td>2679892</td>\n      <td>82</td>\n      <td>8</td>\n      <td>1573320600</td>\n      <td>10247</td>\n      <td>10215</td>\n      <td>3</td>\n      <td>2</td>\n      <td>5</td>\n      <td>0</td>\n      <td>0.805369</td>\n      <td>0.840336</td>\n      <td>1.302521</td>\n      <td>1.174497</td>\n      <td>1.483575</td>\n      <td>1.371075</td>\n    </tr>\n    <tr>\n      <td>4</td>\n      <td>6261</td>\n      <td>2679961</td>\n      <td>82</td>\n      <td>8</td>\n      <td>1577372400</td>\n      <td>10115</td>\n      <td>10215</td>\n      <td>14</td>\n      <td>1</td>\n      <td>11</td>\n      <td>1</td>\n      <td>1.006711</td>\n      <td>1.050420</td>\n      <td>1.302521</td>\n      <td>1.174497</td>\n      <td>1.854468</td>\n      <td>1.713843</td>\n    </tr>\n    <tr>\n      <td>...</td>\n      <td>...</td>\n      <td>...</td>\n      <td>...</td>\n      <td>...</td>\n      <td>...</td>\n      <td>...</td>\n      <td>...</td>\n      <td>...</td>\n      <td>...</td>\n      <td>...</td>\n      <td>...</td>\n      <td>...</td>\n      <td>...</td>\n      <td>...</td>\n      <td>...</td>\n      <td>...</td>\n      <td>...</td>\n    </tr>\n    <tr>\n      <td>203</td>\n      <td>6264</td>\n      <td>2679964</td>\n      <td>82</td>\n      <td>8</td>\n      <td>1577372400</td>\n      <td>10250</td>\n      <td>10010</td>\n      <td>15</td>\n      <td>1</td>\n      <td>10</td>\n      <td>0</td>\n      <td>1.006711</td>\n      <td>0.882353</td>\n      <td>0.882353</td>\n      <td>1.208054</td>\n      <td>1.907453</td>\n      <td>0.975232</td>\n    </tr>\n    <tr>\n      <td>204</td>\n      <td>6101</td>\n      <td>2679307</td>\n      <td>82</td>\n      <td>8</td>\n      <td>1566747000</td>\n      <td>10226</td>\n      <td>10010</td>\n      <td>18</td>\n      <td>1</td>\n      <td>14</td>\n      <td>1</td>\n      <td>0.939597</td>\n      <td>0.882353</td>\n      <td>0.882353</td>\n      <td>1.208054</td>\n      <td>1.780290</td>\n      <td>0.975232</td>\n    </tr>\n    <tr>\n      <td>205</td>\n      <td>6292</td>\n      <td>2679992</td>\n      <td>82</td>\n      <td>8</td>\n      <td>1578754800</td>\n      <td>10180</td>\n      <td>10010</td>\n      <td>4</td>\n      <td>3</td>\n      <td>15</td>\n      <td>0</td>\n      <td>1.308725</td>\n      <td>0.504202</td>\n      <td>0.882353</td>\n      <td>1.208054</td>\n      <td>2.479689</td>\n      <td>0.557276</td>\n    </tr>\n    <tr>\n      <td>206</td>\n      <td>6338</td>\n      <td>2680038</td>\n      <td>82</td>\n      <td>8</td>\n      <td>1581769800</td>\n      <td>10182</td>\n      <td>10010</td>\n      <td>13</td>\n      <td>1</td>\n      <td>11</td>\n      <td>2</td>\n      <td>0.906040</td>\n      <td>1.260504</td>\n      <td>0.882353</td>\n      <td>1.208054</td>\n      <td>1.716708</td>\n      <td>1.393189</td>\n    </tr>\n    <tr>\n      <td>207</td>\n      <td>6121</td>\n      <td>2679327</td>\n      <td>82</td>\n      <td>8</td>\n      <td>1568469600</td>\n      <td>10012</td>\n      <td>10010</td>\n      <td>16</td>\n      <td>1</td>\n      <td>12</td>\n      <td>1</td>\n      <td>0.637584</td>\n      <td>1.176471</td>\n      <td>0.882353</td>\n      <td>1.208054</td>\n      <td>1.208054</td>\n      <td>1.300310</td>\n    </tr>\n  </tbody>\n</table>\n<p>208 rows × 17 columns</p>\n</div>",
      "text/plain": "     Unnamed: 0  match_id  competition_id  status   open_date  home_team  \\\n0          6108   2679314              82       8  1566664200      10249   \n1          6239   2679939              82       8  1575921600      10176   \n2          6128   2679334              82       8  1568561400      10022   \n3          6192   2679892              82       8  1573320600      10247   \n4          6261   2679961              82       8  1577372400      10115   \n..          ...       ...             ...     ...         ...        ...   \n203        6264   2679964              82       8  1577372400      10250   \n204        6101   2679307              82       8  1566747000      10226   \n205        6292   2679992              82       8  1578754800      10180   \n206        6338   2680038              82       8  1581769800      10182   \n207        6121   2679327              82       8  1568469600      10012   \n\n     away_team home_rank  home_score away_rank  away_score  homeAttack  \\\n0        10215         1           3         2           1    1.845638   \n1        10215        16           1        11           3    1.073826   \n2        10215        20           2         7           2    0.872483   \n3        10215         3           2         5           0    0.805369   \n4        10215        14           1        11           1    1.006711   \n..         ...       ...         ...       ...         ...         ...   \n203      10010        15           1        10           0    1.006711   \n204      10010        18           1        14           1    0.939597   \n205      10010         4           3        15           0    1.308725   \n206      10010        13           1        11           2    0.906040   \n207      10010        16           1        12           1    0.637584   \n\n     homeDefense  awayAttack  awayDefense  lambdaHome  lambdaAway  \n0       0.420168    1.302521     1.174497    3.399859    0.685537  \n1       1.134454    1.302521     1.174497    1.978100    1.850951  \n2       1.176471    1.302521     1.174497    1.607206    1.919505  \n3       0.840336    1.302521     1.174497    1.483575    1.371075  \n4       1.050420    1.302521     1.174497    1.854468    1.713843  \n..           ...         ...          ...         ...         ...  \n203     0.882353    0.882353     1.208054    1.907453    0.975232  \n204     0.882353    0.882353     1.208054    1.780290    0.975232  \n205     0.504202    0.882353     1.208054    2.479689    0.557276  \n206     1.260504    0.882353     1.208054    1.716708    1.393189  \n207     1.176471    0.882353     1.208054    1.208054    1.300310  \n\n[208 rows x 17 columns]"
     },
     "execution_count": 6,
     "metadata": {},
     "output_type": "execute_result"
    }
   ],
   "source": [
    "# 整理當前賽季資料 準備進行預測\n",
    "integration = pd.merge(curSeason, teams.loc[:,['homeAttack','homeDefense']], left_on='home_team', right_on='team_id')\n",
    "\n",
    "integration = pd.merge(integration, teams.loc[:,['awayAttack','awayDefense']], left_on='away_team', right_on='team_id')\n",
    "\n",
    "# # TODO 計算可能進球數\n",
    "# 主隊可能進球數 = 主隊進攻率 * 客隊防守率 * 聯盟主隊平均主場進球數\n",
    "integration['lambdaHome'] = integration['homeAttack'] * integration['awayDefense'] * seasonHomeAvg\n",
    "# # 客隊可能進球數 = 客隊進攻率 * 主隊防守率 * 聯盟客隊平均客場進球數\n",
    "integration['lambdaAway'] = integration['awayAttack'] * integration['homeDefense'] * seasonAwayAvg\n",
    "\n",
    "teams.reset_index(inplace=True)\n",
    "\n",
    "# # curSeason['awayPoisson'] = poisson.pmf(np.arange(awayMax + 1), lambdaAway)\n",
    "\n",
    "# integration.loc[integration.loc[:, \"match_id\"] == 2004333]\n",
    "integration"
   ]
  },
  {
   "cell_type": "code",
   "execution_count": 7,
   "metadata": {},
   "outputs": [],
   "source": [
    "# TODO 使用Poisson進算比分分布\n",
    "# result = {}\n",
    "\n",
    "result = pd.DataFrame([], columns = ['matchId', 'openDate', 'home', 'away', 'score', 'mostLikely1', 'mostLikely2', 'mostLikely3', 'mostLikelyResult', 'LeastLikely1', 'LeastLikely2', 'LeastLikely3', 'LeastLikelyResult']) \n",
    "\n",
    "mlResultCount = {'True':0,'False':0}\n",
    "llResultCount = {'True':0,'False':0}\n",
    "\n",
    "for index, row in integration.iterrows():\n",
    "    homePoisson = poisson.pmf(np.arange(homeMax + 1), row['lambdaHome'])\n",
    "    awayPoisson = poisson.pmf(np.arange(awayMax + 1), row['lambdaAway'])\n",
    "\n",
    "    scorePred =  {\n",
    "        '主隊三球以上' : 0,\n",
    "        '客隊三球以上' :0,\n",
    "        '其他': 0\n",
    "    }\n",
    "    \n",
    "    for i in np.arange(homeMax + 1):\n",
    "        for j in np.arange(awayMax + 1):\n",
    "\n",
    "            score = str(i) + ':' + str(j)\n",
    "            \n",
    "            if i > 3 and j > 3:\n",
    "                score = '其他'\n",
    "            elif i > 3:\n",
    "                score = '主隊三球以上'\n",
    "            elif j > 3:\n",
    "                score = '客隊三球以上'\n",
    "\n",
    "            prediction = homePoisson[i] * awayPoisson[j] * 100\n",
    "\n",
    "            if not score == str(i) + ':' + str(j):\n",
    "                prediction = scorePred[score] + prediction\n",
    "\n",
    "            scorePred[score] = prediction\n",
    "    \n",
    "    score = str(row['home_score']) + ':' + str(row['away_score'])\n",
    "    mostLikely = sorted(scorePred.items(), key=lambda obj: obj[1], reverse=True)\n",
    "    LeastLikely = sorted(scorePred.items(), key=lambda obj: obj[1])\n",
    "    mostLikelyList = [mostLikely[0][0], mostLikely[1][0], mostLikely[2][0]]\n",
    "    LeastLikelyList = [LeastLikely[0][0], LeastLikely[1][0], LeastLikely[2][0]]\n",
    "\n",
    "    mostLikelyResult = score in mostLikelyList\n",
    "    LeastLikelyResult = not score in LeastLikelyList\n",
    "\n",
    "    mlResultCount[str(mostLikelyResult)] += 1\n",
    "    llResultCount[str(LeastLikelyResult)] += 1\n",
    "    \n",
    "    result = result.append(\n",
    "        {\n",
    "            'matchId': row['match_id'],\n",
    "            'openDate': datetime.fromtimestamp(row['open_date']),\n",
    "            'home': teams.loc[teams.loc[:, \"team_id\"] == row['home_team'], \"short_name_zh\"].values[0],\n",
    "            'away': teams.loc[teams.loc[:, \"team_id\"] == row['away_team'], \"short_name_zh\"].values[0],\n",
    "            'score': score,\n",
    "            'mostLikely1': mostLikely[0][0],\n",
    "            'mostLikely2': mostLikely[1][0],\n",
    "            'mostLikely3': mostLikely[2][0],\n",
    "            'mostLikelyResult': mostLikelyResult,\n",
    "            'LeastLikely1': LeastLikely[0][0],\n",
    "            'LeastLikely2': LeastLikely[1][0],\n",
    "            'LeastLikely3': LeastLikely[2][0],\n",
    "            'LeastLikelyResult': LeastLikelyResult\n",
    "        }, \n",
    "        ignore_index=True)"
   ]
  },
  {
   "cell_type": "code",
   "execution_count": 8,
   "metadata": {},
   "outputs": [
    {
     "data": {
      "text/html": "<div>\n<style scoped>\n    .dataframe tbody tr th:only-of-type {\n        vertical-align: middle;\n    }\n\n    .dataframe tbody tr th {\n        vertical-align: top;\n    }\n\n    .dataframe thead th {\n        text-align: right;\n    }\n</style>\n<table border=\"1\" class=\"dataframe\">\n  <thead>\n    <tr style=\"text-align: right;\">\n      <th></th>\n      <th>matchId</th>\n      <th>openDate</th>\n      <th>home</th>\n      <th>away</th>\n      <th>score</th>\n      <th>mostLikely1</th>\n      <th>mostLikely2</th>\n      <th>mostLikely3</th>\n      <th>mostLikelyResult</th>\n      <th>LeastLikely1</th>\n      <th>LeastLikely2</th>\n      <th>LeastLikely3</th>\n      <th>LeastLikelyResult</th>\n    </tr>\n  </thead>\n  <tbody>\n    <tr>\n      <td>0</td>\n      <td>2679314</td>\n      <td>2019-08-25 00:30:00</td>\n      <td>利物浦</td>\n      <td>阿森纳</td>\n      <td>3:1</td>\n      <td>主隊三球以上</td>\n      <td>3:0</td>\n      <td>2:0</td>\n      <td>False</td>\n      <td>0:3</td>\n      <td>其他</td>\n      <td>客隊三球以上</td>\n      <td>True</td>\n    </tr>\n    <tr>\n      <td>1</td>\n      <td>2679939</td>\n      <td>2019-12-10 04:00:00</td>\n      <td>西汉姆联</td>\n      <td>阿森纳</td>\n      <td>1:3</td>\n      <td>主隊三球以上</td>\n      <td>客隊三球以上</td>\n      <td>1:1</td>\n      <td>False</td>\n      <td>其他</td>\n      <td>0:0</td>\n      <td>0:3</td>\n      <td>True</td>\n    </tr>\n    <tr>\n      <td>2</td>\n      <td>2679334</td>\n      <td>2019-09-15 23:30:00</td>\n      <td>沃特福德</td>\n      <td>阿森纳</td>\n      <td>2:2</td>\n      <td>客隊三球以上</td>\n      <td>1:1</td>\n      <td>1:2</td>\n      <td>False</td>\n      <td>其他</td>\n      <td>3:0</td>\n      <td>3:3</td>\n      <td>True</td>\n    </tr>\n    <tr>\n      <td>3</td>\n      <td>2679892</td>\n      <td>2019-11-10 01:30:00</td>\n      <td>莱斯特城</td>\n      <td>阿森纳</td>\n      <td>2:0</td>\n      <td>1:1</td>\n      <td>2:1</td>\n      <td>1:0</td>\n      <td>False</td>\n      <td>其他</td>\n      <td>3:3</td>\n      <td>0:3</td>\n      <td>True</td>\n    </tr>\n    <tr>\n      <td>4</td>\n      <td>2679961</td>\n      <td>2019-12-26 23:00:00</td>\n      <td>伯恩茅斯</td>\n      <td>阿森纳</td>\n      <td>1:1</td>\n      <td>主隊三球以上</td>\n      <td>1:1</td>\n      <td>2:1</td>\n      <td>True</td>\n      <td>其他</td>\n      <td>0:3</td>\n      <td>3:3</td>\n      <td>True</td>\n    </tr>\n    <tr>\n      <td>...</td>\n      <td>...</td>\n      <td>...</td>\n      <td>...</td>\n      <td>...</td>\n      <td>...</td>\n      <td>...</td>\n      <td>...</td>\n      <td>...</td>\n      <td>...</td>\n      <td>...</td>\n      <td>...</td>\n      <td>...</td>\n      <td>...</td>\n    </tr>\n    <tr>\n      <td>203</td>\n      <td>2679964</td>\n      <td>2019-12-26 23:00:00</td>\n      <td>埃弗顿</td>\n      <td>伯恩利</td>\n      <td>1:0</td>\n      <td>主隊三球以上</td>\n      <td>1:0</td>\n      <td>1:1</td>\n      <td>True</td>\n      <td>其他</td>\n      <td>0:3</td>\n      <td>3:3</td>\n      <td>True</td>\n    </tr>\n    <tr>\n      <td>204</td>\n      <td>2679307</td>\n      <td>2019-08-25 23:30:00</td>\n      <td>狼队</td>\n      <td>伯恩利</td>\n      <td>1:1</td>\n      <td>1:0</td>\n      <td>1:1</td>\n      <td>主隊三球以上</td>\n      <td>True</td>\n      <td>其他</td>\n      <td>3:3</td>\n      <td>0:3</td>\n      <td>True</td>\n    </tr>\n    <tr>\n      <td>205</td>\n      <td>2679992</td>\n      <td>2020-01-11 23:00:00</td>\n      <td>切尔西</td>\n      <td>伯恩利</td>\n      <td>3:0</td>\n      <td>主隊三球以上</td>\n      <td>2:0</td>\n      <td>3:0</td>\n      <td>True</td>\n      <td>其他</td>\n      <td>0:3</td>\n      <td>客隊三球以上</td>\n      <td>True</td>\n    </tr>\n    <tr>\n      <td>206</td>\n      <td>2680038</td>\n      <td>2020-02-15 20:30:00</td>\n      <td>南安普顿</td>\n      <td>伯恩利</td>\n      <td>1:2</td>\n      <td>1:1</td>\n      <td>2:1</td>\n      <td>主隊三球以上</td>\n      <td>False</td>\n      <td>其他</td>\n      <td>3:3</td>\n      <td>0:3</td>\n      <td>True</td>\n    </tr>\n    <tr>\n      <td>207</td>\n      <td>2679327</td>\n      <td>2019-09-14 22:00:00</td>\n      <td>布莱顿</td>\n      <td>伯恩利</td>\n      <td>1:1</td>\n      <td>1:1</td>\n      <td>0:1</td>\n      <td>1:0</td>\n      <td>True</td>\n      <td>其他</td>\n      <td>3:3</td>\n      <td>3:2</td>\n      <td>True</td>\n    </tr>\n  </tbody>\n</table>\n<p>208 rows × 13 columns</p>\n</div>",
      "text/plain": "     matchId            openDate  home away score mostLikely1 mostLikely2  \\\n0    2679314 2019-08-25 00:30:00   利物浦  阿森纳   3:1      主隊三球以上         3:0   \n1    2679939 2019-12-10 04:00:00  西汉姆联  阿森纳   1:3      主隊三球以上      客隊三球以上   \n2    2679334 2019-09-15 23:30:00  沃特福德  阿森纳   2:2      客隊三球以上         1:1   \n3    2679892 2019-11-10 01:30:00  莱斯特城  阿森纳   2:0         1:1         2:1   \n4    2679961 2019-12-26 23:00:00  伯恩茅斯  阿森纳   1:1      主隊三球以上         1:1   \n..       ...                 ...   ...  ...   ...         ...         ...   \n203  2679964 2019-12-26 23:00:00   埃弗顿  伯恩利   1:0      主隊三球以上         1:0   \n204  2679307 2019-08-25 23:30:00    狼队  伯恩利   1:1         1:0         1:1   \n205  2679992 2020-01-11 23:00:00   切尔西  伯恩利   3:0      主隊三球以上         2:0   \n206  2680038 2020-02-15 20:30:00  南安普顿  伯恩利   1:2         1:1         2:1   \n207  2679327 2019-09-14 22:00:00   布莱顿  伯恩利   1:1         1:1         0:1   \n\n    mostLikely3 mostLikelyResult LeastLikely1 LeastLikely2 LeastLikely3  \\\n0           2:0            False          0:3           其他       客隊三球以上   \n1           1:1            False           其他          0:0          0:3   \n2           1:2            False           其他          3:0          3:3   \n3           1:0            False           其他          3:3          0:3   \n4           2:1             True           其他          0:3          3:3   \n..          ...              ...          ...          ...          ...   \n203         1:1             True           其他          0:3          3:3   \n204      主隊三球以上             True           其他          3:3          0:3   \n205         3:0             True           其他          0:3       客隊三球以上   \n206      主隊三球以上            False           其他          3:3          0:3   \n207         1:0             True           其他          3:3          3:2   \n\n    LeastLikelyResult  \n0                True  \n1                True  \n2                True  \n3                True  \n4                True  \n..                ...  \n203              True  \n204              True  \n205              True  \n206              True  \n207              True  \n\n[208 rows x 13 columns]"
     },
     "execution_count": 8,
     "metadata": {},
     "output_type": "execute_result"
    }
   ],
   "source": [
    "# TODO 使用歷史資料進行驗證結果\n",
    "result"
   ]
  },
  {
   "cell_type": "code",
   "execution_count": 9,
   "metadata": {},
   "outputs": [
    {
     "data": {
      "text/plain": "{'True': 54, 'False': 154}"
     },
     "execution_count": 9,
     "metadata": {},
     "output_type": "execute_result"
    }
   ],
   "source": [
    "# TODO 最有可能比分成功預測結果\n",
    "mlResultCount"
   ]
  },
  {
   "cell_type": "code",
   "execution_count": 10,
   "metadata": {},
   "outputs": [
    {
     "data": {
      "text/plain": "{'True': 199, 'False': 9}"
     },
     "execution_count": 10,
     "metadata": {},
     "output_type": "execute_result"
    }
   ],
   "source": [
    "# TODO 最不可能比分成功預測結果\n",
    "llResultCount"
   ]
  },
  {
   "cell_type": "code",
   "execution_count": 11,
   "metadata": {},
   "outputs": [],
   "source": [
    "# TODO 輸出結果\n",
    "result.to_csv('result.csv', encoding='utf_8_sig')"
   ]
  }
 ]
}