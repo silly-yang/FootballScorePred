{
 "nbformat": 4,
 "nbformat_minor": 2,
 "metadata": {
  "language_info": {
   "name": "python",
   "codemirror_mode": {
    "name": "ipython",
    "version": 3
   },
   "version": "3.7.5-final"
  },
  "orig_nbformat": 2,
  "file_extension": ".py",
  "mimetype": "text/x-python",
  "name": "python",
  "npconvert_exporter": "python",
  "pygments_lexer": "ipython3",
  "version": 3,
  "kernelspec": {
   "name": "python3",
   "display_name": "Python 3"
  }
 },
 "cells": [
  {
   "cell_type": "code",
   "execution_count": 1,
   "metadata": {},
   "outputs": [],
   "source": [
    "import os\n",
    "import pandas as pd"
   ]
  },
  {
   "cell_type": "code",
   "execution_count": 2,
   "metadata": {},
   "outputs": [],
   "source": [
    "# 英超使用(2018-2019)資料評估(2019-2020)賽季比分分布狀況\n",
    "# TODO 資料整理\n",
    "teams = pd.read_csv(os.getcwd() + '/data/82/teams.csv')\n",
    "teams.set_index([\"team_id\"], inplace=True)\n",
    "\n",
    "matches = pd.read_csv(os.getcwd() + '/data/82/matches.csv')\n",
    "lastSeason = matches[matches['season_id'] == 388]\n",
    "curSeason = matches[matches['season_id'] == 5073]"
   ]
  },
  {
   "cell_type": "code",
   "execution_count": 3,
   "metadata": {},
   "outputs": [],
   "source": [
    "# TODO 計算平均進球數\n",
    "# 聯盟主隊平均主場進球數 = 主場賽季總進球數/比賽場數（賽季）\n",
    "seasonHomeAvg = lastSeason['home_score'].sum() / lastSeason.shape[0]\n",
    "# 聯盟主隊平均客場進球數 = 客場賽季總進球數/比賽場數（賽季）\n",
    "seasonAwayAvg = lastSeason['away_score'].sum() / lastSeason.shape[0]\n",
    "\n",
    "# TODO 統計資料\n",
    "# 隊伍為主場平均進球\n",
    "temp = lastSeason.groupby(['home_team'])['home_score', 'away_score'].sum()\n",
    "teams = teams.join(temp, on='team_id')\n",
    "teams = teams.rename(columns={\"home_score\": \"homeGetScore\", \"away_score\": \"homeLostScore\"})\n",
    "\n",
    "# 隊伍為主場總場次\n",
    "temp = lastSeason.groupby(['home_team']).size()\n",
    "temp.index.rename('team_id')\n",
    "temp = temp.rename('homeMatchCount')\n",
    "teams = teams.join(temp, on='team_id')\n",
    "\n",
    "# 隊伍為客場平均進球\n",
    "temp = lastSeason.groupby(['away_team'])['home_score', 'away_score'].sum()\n",
    "teams = teams.join(temp, on='team_id')\n",
    "teams = teams.rename(columns={\"home_score\": \"awayGetScore\", \"away_score\": \"awayLostScore\"})\n",
    "\n",
    "# 隊伍為客場總場次\n",
    "temp = lastSeason.groupby(['away_team']).size()\n",
    "temp.index.rename('team_id')\n",
    "temp = temp.rename('awayMatchCount')\n",
    "teams = teams.join(temp, on='team_id')"
   ]
  },
  {
   "cell_type": "code",
   "execution_count": 47,
   "metadata": {},
   "outputs": [
    {
     "data": {
      "text/plain": "Unnamed: 0                       11\ncompetition_id                   82\nshort_name_zh                    热刺\nshort_name_en     Tottenham Hotspur\nmarket_value              985000000\nhomeGetScore                     35\nhomeLostScore                    15\nhomeMatchCount                   19\nawayGetScore                     20\nawayLostScore                    34\nawayMatchCount                   19\nhomeAttack                  1.23457\nawayAttack                  0.87146\nhomeDefense                0.705467\nawayDefense                 1.52505\nName: 10183, dtype: object"
     },
     "execution_count": 47,
     "metadata": {},
     "output_type": "execute_result"
    }
   ],
   "source": [
    "teams.loc[10183]\n"
   ]
  },
  {
   "cell_type": "code",
   "execution_count": 48,
   "metadata": {},
   "outputs": [
    {
     "data": {
      "text/plain": "Unnamed: 0               18\ncompetition_id           82\nshort_name_zh           埃弗顿\nshort_name_en       Everton\nmarket_value      506000000\nhomeGetScore             35\nhomeLostScore            30\nhomeMatchCount           19\nawayGetScore             25\nawayLostScore            24\nawayMatchCount           19\nhomeAttack          1.23457\nawayAttack          1.08932\nhomeDefense        0.881834\nawayDefense         1.52505\nName: 10250, dtype: object"
     },
     "execution_count": 48,
     "metadata": {},
     "output_type": "execute_result"
    }
   ],
   "source": [
    "teams.loc[10250]"
   ]
  },
  {
   "cell_type": "code",
   "execution_count": 14,
   "metadata": {},
   "outputs": [],
   "source": [
    "# TODO 計算進攻率(上賽季)\n",
    "# 主隊主場平均進球數 = 主隊主場進球數 / 主場賽事場數。\n",
    "# 主隊主場平均進球數 / 聯盟賽季主場平均進球數\n",
    "teams['homeAttack'] =  teams['homeGetScore'] / teams['homeMatchCount'] / seasonHomeAvg\n",
    "teams['awayAttack'] =  teams['awayGetScore'] / teams['awayMatchCount'] / seasonAwayAvg\n",
    "\n",
    "# TODO 計算防守率(上賽季)\n",
    "# 客隊客場平均失球數 = 客隊客場失球數 / 客場賽事場數。\n",
    "# 客隊客場平均失球數 / 聯盟賽季客場平均失球數\n",
    "teams['homeDefense'] =  teams['awayGetScore'] / teams['homeMatchCount'] / seasonHomeAvg\n",
    "teams['awayDefense'] =  teams['homeGetScore'] / teams['awayMatchCount'] / seasonAwayAvg\n",
    "\n",
    "# 删除有NaN rows\n",
    "teams = teams.dropna() "
   ]
  },
  {
   "cell_type": "code",
   "execution_count": 19,
   "metadata": {},
   "outputs": [
    {
     "data": {
      "text/html": "<div>\n<style scoped>\n    .dataframe tbody tr th:only-of-type {\n        vertical-align: middle;\n    }\n\n    .dataframe tbody tr th {\n        vertical-align: top;\n    }\n\n    .dataframe thead th {\n        text-align: right;\n    }\n</style>\n<table border=\"1\" class=\"dataframe\">\n  <thead>\n    <tr style=\"text-align: right;\">\n      <th></th>\n      <th>Unnamed: 0</th>\n      <th>competition_id</th>\n      <th>short_name_zh</th>\n      <th>short_name_en</th>\n      <th>market_value</th>\n      <th>homeGetScore</th>\n      <th>homeLostScore</th>\n      <th>homeMatchCount</th>\n      <th>awayGetScore</th>\n      <th>awayLostScore</th>\n      <th>awayMatchCount</th>\n      <th>homeAttack</th>\n      <th>awayAttack</th>\n      <th>homeDefense</th>\n      <th>awayDefense</th>\n    </tr>\n    <tr>\n      <th>team_id</th>\n      <th></th>\n      <th></th>\n      <th></th>\n      <th></th>\n      <th></th>\n      <th></th>\n      <th></th>\n      <th></th>\n      <th></th>\n      <th></th>\n      <th></th>\n      <th></th>\n      <th></th>\n      <th></th>\n      <th></th>\n    </tr>\n  </thead>\n  <tbody>\n    <tr>\n      <td>10022</td>\n      <td>3</td>\n      <td>82</td>\n      <td>沃特福德</td>\n      <td>Watford</td>\n      <td>235150000</td>\n      <td>20.0</td>\n      <td>19.0</td>\n      <td>19.0</td>\n      <td>31.0</td>\n      <td>20.0</td>\n      <td>19.0</td>\n      <td>0.705467</td>\n      <td>1.350763</td>\n      <td>1.093474</td>\n      <td>0.871460</td>\n    </tr>\n    <tr>\n      <td>10115</td>\n      <td>4</td>\n      <td>82</td>\n      <td>伯恩茅斯</td>\n      <td>Bournemouth AFC</td>\n      <td>334250000</td>\n      <td>23.0</td>\n      <td>34.0</td>\n      <td>19.0</td>\n      <td>33.0</td>\n      <td>22.0</td>\n      <td>19.0</td>\n      <td>0.811287</td>\n      <td>1.437908</td>\n      <td>1.164021</td>\n      <td>1.002179</td>\n    </tr>\n    <tr>\n      <td>10135</td>\n      <td>5</td>\n      <td>82</td>\n      <td>曼联</td>\n      <td>Manchester United</td>\n      <td>753250000</td>\n      <td>27.0</td>\n      <td>9.0</td>\n      <td>19.0</td>\n      <td>26.0</td>\n      <td>22.0</td>\n      <td>19.0</td>\n      <td>0.952381</td>\n      <td>1.132898</td>\n      <td>0.917108</td>\n      <td>1.176471</td>\n    </tr>\n    <tr>\n      <td>10136</td>\n      <td>6</td>\n      <td>82</td>\n      <td>纽卡斯尔联</td>\n      <td>Newcastle United</td>\n      <td>273580000</td>\n      <td>32.0</td>\n      <td>24.0</td>\n      <td>19.0</td>\n      <td>41.0</td>\n      <td>12.0</td>\n      <td>19.0</td>\n      <td>1.128748</td>\n      <td>1.786492</td>\n      <td>1.446208</td>\n      <td>1.394336</td>\n    </tr>\n    <tr>\n      <td>10176</td>\n      <td>7</td>\n      <td>82</td>\n      <td>西汉姆联</td>\n      <td>West Ham United</td>\n      <td>348750000</td>\n      <td>34.0</td>\n      <td>26.0</td>\n      <td>19.0</td>\n      <td>25.0</td>\n      <td>31.0</td>\n      <td>19.0</td>\n      <td>1.199295</td>\n      <td>1.089325</td>\n      <td>0.881834</td>\n      <td>1.481481</td>\n    </tr>\n    <tr>\n      <td>10180</td>\n      <td>8</td>\n      <td>82</td>\n      <td>切尔西</td>\n      <td>Chelsea</td>\n      <td>807000000</td>\n      <td>32.0</td>\n      <td>30.0</td>\n      <td>19.0</td>\n      <td>23.0</td>\n      <td>27.0</td>\n      <td>19.0</td>\n      <td>1.128748</td>\n      <td>1.002179</td>\n      <td>0.811287</td>\n      <td>1.394336</td>\n    </tr>\n    <tr>\n      <td>10181</td>\n      <td>9</td>\n      <td>82</td>\n      <td>曼城</td>\n      <td>Manchester City</td>\n      <td>1280000000</td>\n      <td>47.0</td>\n      <td>21.0</td>\n      <td>19.0</td>\n      <td>20.0</td>\n      <td>24.0</td>\n      <td>19.0</td>\n      <td>1.657848</td>\n      <td>0.871460</td>\n      <td>0.705467</td>\n      <td>2.047930</td>\n    </tr>\n    <tr>\n      <td>10182</td>\n      <td>10</td>\n      <td>82</td>\n      <td>南安普顿</td>\n      <td>Southampton</td>\n      <td>237000000</td>\n      <td>39.0</td>\n      <td>22.0</td>\n      <td>19.0</td>\n      <td>19.0</td>\n      <td>20.0</td>\n      <td>19.0</td>\n      <td>1.375661</td>\n      <td>0.827887</td>\n      <td>0.670194</td>\n      <td>1.699346</td>\n    </tr>\n    <tr>\n      <td>10183</td>\n      <td>11</td>\n      <td>82</td>\n      <td>热刺</td>\n      <td>Tottenham Hotspur</td>\n      <td>985000000</td>\n      <td>35.0</td>\n      <td>15.0</td>\n      <td>19.0</td>\n      <td>20.0</td>\n      <td>34.0</td>\n      <td>19.0</td>\n      <td>1.234568</td>\n      <td>0.871460</td>\n      <td>0.705467</td>\n      <td>1.525054</td>\n    </tr>\n    <tr>\n      <td>10184</td>\n      <td>12</td>\n      <td>82</td>\n      <td>诺维奇</td>\n      <td>Norwich City</td>\n      <td>121600000</td>\n      <td>26.0</td>\n      <td>30.0</td>\n      <td>19.0</td>\n      <td>37.0</td>\n      <td>13.0</td>\n      <td>19.0</td>\n      <td>0.917108</td>\n      <td>1.612200</td>\n      <td>1.305115</td>\n      <td>1.132898</td>\n    </tr>\n    <tr>\n      <td>10215</td>\n      <td>13</td>\n      <td>82</td>\n      <td>阿森纳</td>\n      <td>Arsenal</td>\n      <td>690750000</td>\n      <td>31.0</td>\n      <td>11.0</td>\n      <td>19.0</td>\n      <td>25.0</td>\n      <td>34.0</td>\n      <td>19.0</td>\n      <td>1.093474</td>\n      <td>1.089325</td>\n      <td>0.881834</td>\n      <td>1.350763</td>\n    </tr>\n    <tr>\n      <td>10244</td>\n      <td>15</td>\n      <td>82</td>\n      <td>水晶宫</td>\n      <td>Crystal Palace</td>\n      <td>236550000</td>\n      <td>19.0</td>\n      <td>23.0</td>\n      <td>19.0</td>\n      <td>28.0</td>\n      <td>20.0</td>\n      <td>19.0</td>\n      <td>0.670194</td>\n      <td>1.220044</td>\n      <td>0.987654</td>\n      <td>0.827887</td>\n    </tr>\n    <tr>\n      <td>10247</td>\n      <td>16</td>\n      <td>82</td>\n      <td>莱斯特城</td>\n      <td>Leicester City</td>\n      <td>410250000</td>\n      <td>35.0</td>\n      <td>18.0</td>\n      <td>19.0</td>\n      <td>18.0</td>\n      <td>33.0</td>\n      <td>19.0</td>\n      <td>1.234568</td>\n      <td>0.784314</td>\n      <td>0.634921</td>\n      <td>1.525054</td>\n    </tr>\n    <tr>\n      <td>10249</td>\n      <td>17</td>\n      <td>82</td>\n      <td>利物浦</td>\n      <td>Liverpool</td>\n      <td>1070000000</td>\n      <td>33.0</td>\n      <td>22.0</td>\n      <td>19.0</td>\n      <td>28.0</td>\n      <td>30.0</td>\n      <td>19.0</td>\n      <td>1.164021</td>\n      <td>1.220044</td>\n      <td>0.987654</td>\n      <td>1.437908</td>\n    </tr>\n    <tr>\n      <td>10250</td>\n      <td>18</td>\n      <td>82</td>\n      <td>埃弗顿</td>\n      <td>Everton</td>\n      <td>506000000</td>\n      <td>35.0</td>\n      <td>30.0</td>\n      <td>19.0</td>\n      <td>25.0</td>\n      <td>24.0</td>\n      <td>19.0</td>\n      <td>1.234568</td>\n      <td>1.089325</td>\n      <td>0.881834</td>\n      <td>1.525054</td>\n    </tr>\n    <tr>\n      <td>10411</td>\n      <td>19</td>\n      <td>82</td>\n      <td>阿斯顿维拉</td>\n      <td>Aston Villa</td>\n      <td>191000000</td>\n      <td>14.0</td>\n      <td>35.0</td>\n      <td>19.0</td>\n      <td>41.0</td>\n      <td>13.0</td>\n      <td>19.0</td>\n      <td>0.493827</td>\n      <td>1.786492</td>\n      <td>1.446208</td>\n      <td>0.610022</td>\n    </tr>\n  </tbody>\n</table>\n</div>",
      "text/plain": "         Unnamed: 0  competition_id short_name_zh      short_name_en  \\\nteam_id                                                                \n10022             3              82          沃特福德            Watford   \n10115             4              82          伯恩茅斯    Bournemouth AFC   \n10135             5              82            曼联  Manchester United   \n10136             6              82         纽卡斯尔联   Newcastle United   \n10176             7              82          西汉姆联    West Ham United   \n10180             8              82           切尔西            Chelsea   \n10181             9              82            曼城    Manchester City   \n10182            10              82          南安普顿        Southampton   \n10183            11              82            热刺  Tottenham Hotspur   \n10184            12              82           诺维奇       Norwich City   \n10215            13              82           阿森纳            Arsenal   \n10244            15              82           水晶宫     Crystal Palace   \n10247            16              82          莱斯特城     Leicester City   \n10249            17              82           利物浦          Liverpool   \n10250            18              82           埃弗顿            Everton   \n10411            19              82         阿斯顿维拉        Aston Villa   \n\n         market_value  homeGetScore  homeLostScore  homeMatchCount  \\\nteam_id                                                              \n10022       235150000          20.0           19.0            19.0   \n10115       334250000          23.0           34.0            19.0   \n10135       753250000          27.0            9.0            19.0   \n10136       273580000          32.0           24.0            19.0   \n10176       348750000          34.0           26.0            19.0   \n10180       807000000          32.0           30.0            19.0   \n10181      1280000000          47.0           21.0            19.0   \n10182       237000000          39.0           22.0            19.0   \n10183       985000000          35.0           15.0            19.0   \n10184       121600000          26.0           30.0            19.0   \n10215       690750000          31.0           11.0            19.0   \n10244       236550000          19.0           23.0            19.0   \n10247       410250000          35.0           18.0            19.0   \n10249      1070000000          33.0           22.0            19.0   \n10250       506000000          35.0           30.0            19.0   \n10411       191000000          14.0           35.0            19.0   \n\n         awayGetScore  awayLostScore  awayMatchCount  homeAttack  awayAttack  \\\nteam_id                                                                        \n10022            31.0           20.0            19.0    0.705467    1.350763   \n10115            33.0           22.0            19.0    0.811287    1.437908   \n10135            26.0           22.0            19.0    0.952381    1.132898   \n10136            41.0           12.0            19.0    1.128748    1.786492   \n10176            25.0           31.0            19.0    1.199295    1.089325   \n10180            23.0           27.0            19.0    1.128748    1.002179   \n10181            20.0           24.0            19.0    1.657848    0.871460   \n10182            19.0           20.0            19.0    1.375661    0.827887   \n10183            20.0           34.0            19.0    1.234568    0.871460   \n10184            37.0           13.0            19.0    0.917108    1.612200   \n10215            25.0           34.0            19.0    1.093474    1.089325   \n10244            28.0           20.0            19.0    0.670194    1.220044   \n10247            18.0           33.0            19.0    1.234568    0.784314   \n10249            28.0           30.0            19.0    1.164021    1.220044   \n10250            25.0           24.0            19.0    1.234568    1.089325   \n10411            41.0           13.0            19.0    0.493827    1.786492   \n\n         homeDefense  awayDefense  \nteam_id                            \n10022       1.093474     0.871460  \n10115       1.164021     1.002179  \n10135       0.917108     1.176471  \n10136       1.446208     1.394336  \n10176       0.881834     1.481481  \n10180       0.811287     1.394336  \n10181       0.705467     2.047930  \n10182       0.670194     1.699346  \n10183       0.705467     1.525054  \n10184       1.305115     1.132898  \n10215       0.881834     1.350763  \n10244       0.987654     0.827887  \n10247       0.634921     1.525054  \n10249       0.987654     1.437908  \n10250       0.881834     1.525054  \n10411       1.446208     0.610022  "
     },
     "execution_count": 19,
     "metadata": {},
     "output_type": "execute_result"
    }
   ],
   "source": [
    "teams[]"
   ]
  },
  {
   "cell_type": "code",
   "execution_count": 7,
   "metadata": {},
   "outputs": [],
   "source": [
    "# TODO 計算可能進球數\n",
    "# 主隊可能進球數 = 主隊進攻率 * 客隊防守率 * 聯盟主隊平均主場進球數\n",
    "# 客隊可能進球數 = 客隊進攻率 * 主隊防守率 * 聯盟客隊平均客場進球數"
   ]
  },
  {
   "cell_type": "code",
   "execution_count": 8,
   "metadata": {},
   "outputs": [],
   "source": [
    "# TODO 使用Poisson進算比分分布"
   ]
  },
  {
   "cell_type": "code",
   "execution_count": 9,
   "metadata": {},
   "outputs": [],
   "source": [
    "# TODO 使用歷史資料進行驗證"
   ]
  },
  {
   "cell_type": "code",
   "execution_count": 10,
   "metadata": {},
   "outputs": [],
   "source": [
    "# TODO 結果呈現\n",
    "# 所有比分發生機率\n",
    "# 依實際分布情況排序\n",
    "# 依預估分布情況排序"
   ]
  }
 ]
}