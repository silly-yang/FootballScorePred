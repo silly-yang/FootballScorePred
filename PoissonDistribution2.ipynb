{
 "nbformat": 4,
 "nbformat_minor": 2,
 "metadata": {
  "language_info": {
   "name": "python",
   "codemirror_mode": {
    "name": "ipython",
    "version": 3
   },
   "version": "3.7.4-final"
  },
  "orig_nbformat": 2,
  "file_extension": ".py",
  "mimetype": "text/x-python",
  "name": "python",
  "npconvert_exporter": "python",
  "pygments_lexer": "ipython3",
  "version": 3,
  "kernelspec": {
   "name": "python37464bitbaseconda481ecdb60cbc4a04bdc42cbc50444e04",
   "display_name": "Python 3.7.4 64-bit ('base': conda)"
  }
 },
 "cells": [
  {
   "cell_type": "code",
   "execution_count": null,
   "metadata": {},
   "outputs": [],
   "source": [
    "# TODO 資料整理\n",
    "# 聯盟主隊平均主場進球數 = 主場賽季總進球數/比賽場數（賽季）\n",
    "# 聯盟主隊平均客場進球數 = 客場賽季總進球數/比賽場數（賽季）"
   ]
  },
  {
   "cell_type": "code",
   "execution_count": null,
   "metadata": {},
   "outputs": [],
   "source": [
    "# TODO 計算進攻率(上賽季)\n",
    "# 1. 主隊主場平均進球數 = 主隊主場進球數 / 主場賽事場數。\n",
    "# 2. 主隊主場平均進球數 / 聯盟賽季主場平均進球數"
   ]
  },
  {
   "cell_type": "code",
   "execution_count": null,
   "metadata": {},
   "outputs": [],
   "source": [
    "# TODO 計算防守率(上賽季)\n",
    "# 1. 客隊客場平均失球數 = 客隊客場失球數 / 客場賽事場數。\n",
    "# 2. 客隊客場平均失球數 / 聯盟賽季客場平均失球數"
   ]
  },
  {
   "cell_type": "code",
   "execution_count": null,
   "metadata": {},
   "outputs": [],
   "source": [
    "# TODO 計算可能進球數\n",
    "# 主隊可能進球數 = 主隊進攻率 * 客隊防守率 * 聯盟主隊平均主場進球數\n",
    "# 客隊可能進球數 = 客隊進攻率 * 主隊防守率 * 聯盟客隊平均客場進球數"
   ]
  },
  {
   "cell_type": "code",
   "execution_count": null,
   "metadata": {},
   "outputs": [],
   "source": [
    "# TODO 使用Poisson進算比分分布"
   ]
  },
  {
   "cell_type": "code",
   "execution_count": null,
   "metadata": {},
   "outputs": [],
   "source": [
    "# TODO 使用歷史資料進行驗證"
   ]
  },
  {
   "cell_type": "code",
   "execution_count": 1,
   "metadata": {},
   "outputs": [],
   "source": [
    "# TODO 結果呈現\n",
    "# 所有比分發生機率\n",
    "# 依實際分布情況排序\n",
    "# 依預估分布情況排序"
   ]
  }
 ]
}