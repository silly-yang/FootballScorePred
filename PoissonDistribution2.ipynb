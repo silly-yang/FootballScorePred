{
 "nbformat": 4,
 "nbformat_minor": 2,
 "metadata": {
  "language_info": {
   "name": "python",
   "codemirror_mode": {
    "name": "ipython",
    "version": 3
   },
   "version": "3.7.4-final"
  },
  "orig_nbformat": 2,
  "file_extension": ".py",
  "mimetype": "text/x-python",
  "name": "python",
  "npconvert_exporter": "python",
  "pygments_lexer": "ipython3",
  "version": 3,
  "kernelspec": {
   "name": "python37464bitbaseconda481ecdb60cbc4a04bdc42cbc50444e04",
   "display_name": "Python 3.7.4 64-bit ('base': conda)"
  }
 },
 "cells": [
  {
   "cell_type": "code",
   "execution_count": 1,
   "metadata": {},
   "outputs": [],
   "source": [
    "import os\n",
    "import numpy as np\n",
    "import pandas as pd\n",
    "from scipy.stats import poisson  # 泊松分布"
   ]
  },
  {
   "cell_type": "code",
   "execution_count": 2,
   "metadata": {},
   "outputs": [],
   "source": [
    "# 英超使用(2018-2019)資料評估(2019-2020)賽季比分分布狀況\n",
    "# TODO 資料整理\n",
    "teams = pd.read_csv(os.getcwd() + '/data/82/teams.csv')\n",
    "teams.set_index([\"team_id\"], inplace=True)\n",
    "\n",
    "matches = pd.read_csv(os.getcwd() + '/data/82/matches.csv')\n",
    "lastSeason = matches[matches['season_id'] == 388]\n",
    "curSeason = matches[matches['season_id'] == 5073]\n",
    "\n",
    "# 主客隊最大進球數\n",
    "homeMax = lastSeason['home_score'].max()\n",
    "awayMax = lastSeason['home_score'].max()\n",
    "\n",
    "# curSeason.set_index('match_id')\n",
    "curSeason = curSeason.drop(columns=['home_half_score', 'home_red', 'home_yellow', 'home_corner','away_half_score', 'away_red', 'away_yellow', 'away_corner', 'season_id', 'season_name'])"
   ]
  },
  {
   "cell_type": "code",
   "execution_count": 3,
   "metadata": {},
   "outputs": [
    {
     "name": "stdout",
     "output_type": "stream",
     "text": "主場平均進球數: 1.4921052631578948 球\n客場平均進球數: 1.2078947368421054 球\n"
    }
   ],
   "source": [
    "# TODO 計算平均進球數\n",
    "# 聯盟主隊平均主場進球數 = 主場賽季總進球數/比賽場數（賽季）\n",
    "seasonHomeAvg = lastSeason['home_score'].sum() / lastSeason.shape[0]\n",
    "# 聯盟主隊平均客場進球數 = 客場賽季總進球數/比賽場數（賽季）\n",
    "seasonAwayAvg = lastSeason['away_score'].sum() / lastSeason.shape[0]\n",
    "\n",
    "print('主場平均進球數: %s 球' % seasonHomeAvg)\n",
    "print('客場平均進球數: %s 球' % seasonAwayAvg)\n",
    "\n",
    "# TODO 統計資料\n",
    "# 隊伍為主場平均進球\n",
    "temp = lastSeason.groupby(['home_team'])['home_score', 'away_score'].sum()\n",
    "temp.index.rename('team_id')\n",
    "teams = teams.join(temp, on='team_id')\n",
    "teams = teams.rename(columns={\"home_score\": \"homeGetScore\", \"away_score\": \"homeLostScore\"})\n",
    "\n",
    "# 隊伍為主場總場次\n",
    "temp = lastSeason.groupby(['home_team']).size()\n",
    "temp.index.rename('team_id')\n",
    "temp = temp.rename('homeMatchCount')\n",
    "teams = teams.join(temp, on='team_id')\n",
    "\n",
    "# 隊伍為客場平均進球\n",
    "temp = lastSeason.groupby(['away_team'])['home_score', 'away_score'].sum()\n",
    "temp.index.rename('team_id')\n",
    "teams = teams.join(temp, on='team_id')\n",
    "teams = teams.rename(columns={\"home_score\": \"awayLostScore\", \"away_score\": \"awayGetScore\"})\n",
    "\n",
    "# 隊伍為客場總場次\n",
    "temp = lastSeason.groupby(['away_team']).size()\n",
    "temp.index.rename('team_id')\n",
    "temp = temp.rename('awayMatchCount')\n",
    "teams = teams.join(temp, on='team_id')\n",
    "\n",
    "# 删除有NaN rows\n",
    "teams = teams.dropna() "
   ]
  },
  {
   "cell_type": "code",
   "execution_count": 4,
   "metadata": {},
   "outputs": [],
   "source": [
    "# TODO 計算進攻率(上賽季)\n",
    "# 主隊主場平均進球數 = 主隊主場進球數 / 主場賽事場數。\n",
    "# 主隊主場平均進球數 / 聯盟賽季主場平均進球數\n",
    "teams['homeAttack'] =  teams['homeGetScore'] / teams['homeMatchCount'] / seasonHomeAvg\n",
    "teams['awayAttack'] =  teams['awayGetScore'] / teams['awayMatchCount'] / seasonAwayAvg\n",
    "\n",
    "# TODO 計算防守率(上賽季)\n",
    "# 客隊客場平均失球數 = 客隊客場失球數 / 客場賽事場數。\n",
    "# 客隊客場平均失球數 / 聯盟賽季客場平均失球數\n",
    "teams['homeDefense'] =  teams['homeLostScore'] / teams['homeMatchCount'] / seasonAwayAvg\n",
    "teams['awayDefense'] =  teams['awayLostScore'] / teams['awayMatchCount'] / seasonHomeAvg"
   ]
  },
  {
   "cell_type": "code",
   "execution_count": 5,
   "metadata": {},
   "outputs": [
    {
     "data": {
      "text/html": "<div>\n<style scoped>\n    .dataframe tbody tr th:only-of-type {\n        vertical-align: middle;\n    }\n\n    .dataframe tbody tr th {\n        vertical-align: top;\n    }\n\n    .dataframe thead th {\n        text-align: right;\n    }\n</style>\n<table border=\"1\" class=\"dataframe\">\n  <thead>\n    <tr style=\"text-align: right;\">\n      <th></th>\n      <th>Unnamed: 0</th>\n      <th>competition_id</th>\n      <th>short_name_zh</th>\n      <th>short_name_en</th>\n      <th>market_value</th>\n      <th>homeGetScore</th>\n      <th>homeLostScore</th>\n      <th>homeMatchCount</th>\n      <th>awayLostScore</th>\n      <th>awayGetScore</th>\n      <th>awayMatchCount</th>\n      <th>homeAttack</th>\n      <th>awayAttack</th>\n      <th>homeDefense</th>\n      <th>awayDefense</th>\n    </tr>\n    <tr>\n      <th>team_id</th>\n      <th></th>\n      <th></th>\n      <th></th>\n      <th></th>\n      <th></th>\n      <th></th>\n      <th></th>\n      <th></th>\n      <th></th>\n      <th></th>\n      <th></th>\n      <th></th>\n      <th></th>\n      <th></th>\n      <th></th>\n    </tr>\n  </thead>\n  <tbody>\n    <tr>\n      <td>10022</td>\n      <td>3</td>\n      <td>82</td>\n      <td>沃特福德</td>\n      <td>Watford</td>\n      <td>235150000</td>\n      <td>20.0</td>\n      <td>19.0</td>\n      <td>19.0</td>\n      <td>31.0</td>\n      <td>20.0</td>\n      <td>19.0</td>\n      <td>0.705467</td>\n      <td>0.871460</td>\n      <td>0.827887</td>\n      <td>1.093474</td>\n    </tr>\n    <tr>\n      <td>10115</td>\n      <td>4</td>\n      <td>82</td>\n      <td>伯恩茅斯</td>\n      <td>Bournemouth AFC</td>\n      <td>334250000</td>\n      <td>23.0</td>\n      <td>34.0</td>\n      <td>19.0</td>\n      <td>33.0</td>\n      <td>22.0</td>\n      <td>19.0</td>\n      <td>0.811287</td>\n      <td>0.958606</td>\n      <td>1.481481</td>\n      <td>1.164021</td>\n    </tr>\n    <tr>\n      <td>10135</td>\n      <td>5</td>\n      <td>82</td>\n      <td>曼联</td>\n      <td>Manchester United</td>\n      <td>753250000</td>\n      <td>27.0</td>\n      <td>9.0</td>\n      <td>19.0</td>\n      <td>26.0</td>\n      <td>22.0</td>\n      <td>19.0</td>\n      <td>0.952381</td>\n      <td>0.958606</td>\n      <td>0.392157</td>\n      <td>0.917108</td>\n    </tr>\n    <tr>\n      <td>10136</td>\n      <td>6</td>\n      <td>82</td>\n      <td>纽卡斯尔联</td>\n      <td>Newcastle United</td>\n      <td>273580000</td>\n      <td>32.0</td>\n      <td>24.0</td>\n      <td>19.0</td>\n      <td>41.0</td>\n      <td>12.0</td>\n      <td>19.0</td>\n      <td>1.128748</td>\n      <td>0.522876</td>\n      <td>1.045752</td>\n      <td>1.446208</td>\n    </tr>\n    <tr>\n      <td>10176</td>\n      <td>7</td>\n      <td>82</td>\n      <td>西汉姆联</td>\n      <td>West Ham United</td>\n      <td>348750000</td>\n      <td>34.0</td>\n      <td>26.0</td>\n      <td>19.0</td>\n      <td>25.0</td>\n      <td>31.0</td>\n      <td>19.0</td>\n      <td>1.199295</td>\n      <td>1.350763</td>\n      <td>1.132898</td>\n      <td>0.881834</td>\n    </tr>\n    <tr>\n      <td>10180</td>\n      <td>8</td>\n      <td>82</td>\n      <td>切尔西</td>\n      <td>Chelsea</td>\n      <td>807000000</td>\n      <td>32.0</td>\n      <td>30.0</td>\n      <td>19.0</td>\n      <td>23.0</td>\n      <td>27.0</td>\n      <td>19.0</td>\n      <td>1.128748</td>\n      <td>1.176471</td>\n      <td>1.307190</td>\n      <td>0.811287</td>\n    </tr>\n    <tr>\n      <td>10181</td>\n      <td>9</td>\n      <td>82</td>\n      <td>曼城</td>\n      <td>Manchester City</td>\n      <td>1280000000</td>\n      <td>47.0</td>\n      <td>21.0</td>\n      <td>19.0</td>\n      <td>20.0</td>\n      <td>24.0</td>\n      <td>19.0</td>\n      <td>1.657848</td>\n      <td>1.045752</td>\n      <td>0.915033</td>\n      <td>0.705467</td>\n    </tr>\n    <tr>\n      <td>10182</td>\n      <td>10</td>\n      <td>82</td>\n      <td>南安普顿</td>\n      <td>Southampton</td>\n      <td>237000000</td>\n      <td>39.0</td>\n      <td>22.0</td>\n      <td>19.0</td>\n      <td>19.0</td>\n      <td>20.0</td>\n      <td>19.0</td>\n      <td>1.375661</td>\n      <td>0.871460</td>\n      <td>0.958606</td>\n      <td>0.670194</td>\n    </tr>\n    <tr>\n      <td>10183</td>\n      <td>11</td>\n      <td>82</td>\n      <td>热刺</td>\n      <td>Tottenham Hotspur</td>\n      <td>985000000</td>\n      <td>35.0</td>\n      <td>15.0</td>\n      <td>19.0</td>\n      <td>20.0</td>\n      <td>34.0</td>\n      <td>19.0</td>\n      <td>1.234568</td>\n      <td>1.481481</td>\n      <td>0.653595</td>\n      <td>0.705467</td>\n    </tr>\n    <tr>\n      <td>10184</td>\n      <td>12</td>\n      <td>82</td>\n      <td>诺维奇</td>\n      <td>Norwich City</td>\n      <td>121600000</td>\n      <td>26.0</td>\n      <td>30.0</td>\n      <td>19.0</td>\n      <td>37.0</td>\n      <td>13.0</td>\n      <td>19.0</td>\n      <td>0.917108</td>\n      <td>0.566449</td>\n      <td>1.307190</td>\n      <td>1.305115</td>\n    </tr>\n    <tr>\n      <td>10215</td>\n      <td>13</td>\n      <td>82</td>\n      <td>阿森纳</td>\n      <td>Arsenal</td>\n      <td>690750000</td>\n      <td>31.0</td>\n      <td>11.0</td>\n      <td>19.0</td>\n      <td>25.0</td>\n      <td>34.0</td>\n      <td>19.0</td>\n      <td>1.093474</td>\n      <td>1.481481</td>\n      <td>0.479303</td>\n      <td>0.881834</td>\n    </tr>\n    <tr>\n      <td>10244</td>\n      <td>15</td>\n      <td>82</td>\n      <td>水晶宫</td>\n      <td>Crystal Palace</td>\n      <td>236550000</td>\n      <td>19.0</td>\n      <td>23.0</td>\n      <td>19.0</td>\n      <td>28.0</td>\n      <td>20.0</td>\n      <td>19.0</td>\n      <td>0.670194</td>\n      <td>0.871460</td>\n      <td>1.002179</td>\n      <td>0.987654</td>\n    </tr>\n    <tr>\n      <td>10247</td>\n      <td>16</td>\n      <td>82</td>\n      <td>莱斯特城</td>\n      <td>Leicester City</td>\n      <td>410250000</td>\n      <td>35.0</td>\n      <td>18.0</td>\n      <td>19.0</td>\n      <td>18.0</td>\n      <td>33.0</td>\n      <td>19.0</td>\n      <td>1.234568</td>\n      <td>1.437908</td>\n      <td>0.784314</td>\n      <td>0.634921</td>\n    </tr>\n    <tr>\n      <td>10249</td>\n      <td>17</td>\n      <td>82</td>\n      <td>利物浦</td>\n      <td>Liverpool</td>\n      <td>1070000000</td>\n      <td>33.0</td>\n      <td>22.0</td>\n      <td>19.0</td>\n      <td>28.0</td>\n      <td>30.0</td>\n      <td>19.0</td>\n      <td>1.164021</td>\n      <td>1.307190</td>\n      <td>0.958606</td>\n      <td>0.987654</td>\n    </tr>\n    <tr>\n      <td>10250</td>\n      <td>18</td>\n      <td>82</td>\n      <td>埃弗顿</td>\n      <td>Everton</td>\n      <td>506000000</td>\n      <td>35.0</td>\n      <td>30.0</td>\n      <td>19.0</td>\n      <td>25.0</td>\n      <td>24.0</td>\n      <td>19.0</td>\n      <td>1.234568</td>\n      <td>1.045752</td>\n      <td>1.307190</td>\n      <td>0.881834</td>\n    </tr>\n    <tr>\n      <td>10411</td>\n      <td>19</td>\n      <td>82</td>\n      <td>阿斯顿维拉</td>\n      <td>Aston Villa</td>\n      <td>191000000</td>\n      <td>14.0</td>\n      <td>35.0</td>\n      <td>19.0</td>\n      <td>41.0</td>\n      <td>13.0</td>\n      <td>19.0</td>\n      <td>0.493827</td>\n      <td>0.566449</td>\n      <td>1.525054</td>\n      <td>1.446208</td>\n    </tr>\n  </tbody>\n</table>\n</div>",
      "text/plain": "         Unnamed: 0  competition_id short_name_zh      short_name_en  \\\nteam_id                                                                \n10022             3              82          沃特福德            Watford   \n10115             4              82          伯恩茅斯    Bournemouth AFC   \n10135             5              82            曼联  Manchester United   \n10136             6              82         纽卡斯尔联   Newcastle United   \n10176             7              82          西汉姆联    West Ham United   \n10180             8              82           切尔西            Chelsea   \n10181             9              82            曼城    Manchester City   \n10182            10              82          南安普顿        Southampton   \n10183            11              82            热刺  Tottenham Hotspur   \n10184            12              82           诺维奇       Norwich City   \n10215            13              82           阿森纳            Arsenal   \n10244            15              82           水晶宫     Crystal Palace   \n10247            16              82          莱斯特城     Leicester City   \n10249            17              82           利物浦          Liverpool   \n10250            18              82           埃弗顿            Everton   \n10411            19              82         阿斯顿维拉        Aston Villa   \n\n         market_value  homeGetScore  homeLostScore  homeMatchCount  \\\nteam_id                                                              \n10022       235150000          20.0           19.0            19.0   \n10115       334250000          23.0           34.0            19.0   \n10135       753250000          27.0            9.0            19.0   \n10136       273580000          32.0           24.0            19.0   \n10176       348750000          34.0           26.0            19.0   \n10180       807000000          32.0           30.0            19.0   \n10181      1280000000          47.0           21.0            19.0   \n10182       237000000          39.0           22.0            19.0   \n10183       985000000          35.0           15.0            19.0   \n10184       121600000          26.0           30.0            19.0   \n10215       690750000          31.0           11.0            19.0   \n10244       236550000          19.0           23.0            19.0   \n10247       410250000          35.0           18.0            19.0   \n10249      1070000000          33.0           22.0            19.0   \n10250       506000000          35.0           30.0            19.0   \n10411       191000000          14.0           35.0            19.0   \n\n         awayLostScore  awayGetScore  awayMatchCount  homeAttack  awayAttack  \\\nteam_id                                                                        \n10022             31.0          20.0            19.0    0.705467    0.871460   \n10115             33.0          22.0            19.0    0.811287    0.958606   \n10135             26.0          22.0            19.0    0.952381    0.958606   \n10136             41.0          12.0            19.0    1.128748    0.522876   \n10176             25.0          31.0            19.0    1.199295    1.350763   \n10180             23.0          27.0            19.0    1.128748    1.176471   \n10181             20.0          24.0            19.0    1.657848    1.045752   \n10182             19.0          20.0            19.0    1.375661    0.871460   \n10183             20.0          34.0            19.0    1.234568    1.481481   \n10184             37.0          13.0            19.0    0.917108    0.566449   \n10215             25.0          34.0            19.0    1.093474    1.481481   \n10244             28.0          20.0            19.0    0.670194    0.871460   \n10247             18.0          33.0            19.0    1.234568    1.437908   \n10249             28.0          30.0            19.0    1.164021    1.307190   \n10250             25.0          24.0            19.0    1.234568    1.045752   \n10411             41.0          13.0            19.0    0.493827    0.566449   \n\n         homeDefense  awayDefense  \nteam_id                            \n10022       0.827887     1.093474  \n10115       1.481481     1.164021  \n10135       0.392157     0.917108  \n10136       1.045752     1.446208  \n10176       1.132898     0.881834  \n10180       1.307190     0.811287  \n10181       0.915033     0.705467  \n10182       0.958606     0.670194  \n10183       0.653595     0.705467  \n10184       1.307190     1.305115  \n10215       0.479303     0.881834  \n10244       1.002179     0.987654  \n10247       0.784314     0.634921  \n10249       0.958606     0.987654  \n10250       1.307190     0.881834  \n10411       1.525054     1.446208  "
     },
     "execution_count": 5,
     "metadata": {},
     "output_type": "execute_result"
    }
   ],
   "source": [
    "teams"
   ]
  },
  {
   "cell_type": "code",
   "execution_count": 6,
   "metadata": {},
   "outputs": [
    {
     "data": {
      "text/html": "<div>\n<style scoped>\n    .dataframe tbody tr th:only-of-type {\n        vertical-align: middle;\n    }\n\n    .dataframe tbody tr th {\n        vertical-align: top;\n    }\n\n    .dataframe thead th {\n        text-align: right;\n    }\n</style>\n<table border=\"1\" class=\"dataframe\">\n  <thead>\n    <tr style=\"text-align: right;\">\n      <th></th>\n      <th>Unnamed: 0</th>\n      <th>match_id</th>\n      <th>competition_id</th>\n      <th>open_date</th>\n      <th>home_team</th>\n      <th>away_team</th>\n      <th>home_rank</th>\n      <th>home_score</th>\n      <th>away_rank</th>\n      <th>away_score</th>\n      <th>homeAttack</th>\n      <th>homeDefense</th>\n      <th>awayAttack</th>\n      <th>awayDefense</th>\n      <th>lambdaHome</th>\n      <th>lambdaAway</th>\n    </tr>\n  </thead>\n  <tbody>\n    <tr>\n      <td>0</td>\n      <td>4970</td>\n      <td>2004087</td>\n      <td>82</td>\n      <td>1471186800</td>\n      <td>10215</td>\n      <td>10249</td>\n      <td>2</td>\n      <td>3</td>\n      <td>8</td>\n      <td>4</td>\n      <td>1.093474</td>\n      <td>0.479303</td>\n      <td>1.307190</td>\n      <td>0.987654</td>\n      <td>1.611436</td>\n      <td>0.756794</td>\n    </tr>\n    <tr>\n      <td>1</td>\n      <td>5149</td>\n      <td>2004267</td>\n      <td>82</td>\n      <td>1480858200</td>\n      <td>10115</td>\n      <td>10249</td>\n      <td>12</td>\n      <td>4</td>\n      <td>3</td>\n      <td>3</td>\n      <td>0.811287</td>\n      <td>1.481481</td>\n      <td>1.307190</td>\n      <td>0.987654</td>\n      <td>1.195582</td>\n      <td>2.339181</td>\n    </tr>\n    <tr>\n      <td>2</td>\n      <td>5009</td>\n      <td>2004127</td>\n      <td>82</td>\n      <td>1474052400</td>\n      <td>10180</td>\n      <td>10249</td>\n      <td>2</td>\n      <td>1</td>\n      <td>6</td>\n      <td>2</td>\n      <td>1.128748</td>\n      <td>1.307190</td>\n      <td>1.307190</td>\n      <td>0.987654</td>\n      <td>1.663418</td>\n      <td>2.063983</td>\n    </tr>\n    <tr>\n      <td>3</td>\n      <td>5109</td>\n      <td>2004227</td>\n      <td>82</td>\n      <td>1477758600</td>\n      <td>10244</td>\n      <td>10249</td>\n      <td>11</td>\n      <td>2</td>\n      <td>3</td>\n      <td>4</td>\n      <td>0.670194</td>\n      <td>1.002179</td>\n      <td>1.307190</td>\n      <td>0.987654</td>\n      <td>0.987654</td>\n      <td>1.582387</td>\n    </tr>\n    <tr>\n      <td>4</td>\n      <td>5192</td>\n      <td>2004310</td>\n      <td>82</td>\n      <td>1489941000</td>\n      <td>10181</td>\n      <td>10249</td>\n      <td>3</td>\n      <td>1</td>\n      <td>4</td>\n      <td>1</td>\n      <td>1.657848</td>\n      <td>0.915033</td>\n      <td>1.307190</td>\n      <td>0.987654</td>\n      <td>2.443145</td>\n      <td>1.444788</td>\n    </tr>\n    <tr>\n      <td>...</td>\n      <td>...</td>\n      <td>...</td>\n      <td>...</td>\n      <td>...</td>\n      <td>...</td>\n      <td>...</td>\n      <td>...</td>\n      <td>...</td>\n      <td>...</td>\n      <td>...</td>\n      <td>...</td>\n      <td>...</td>\n      <td>...</td>\n      <td>...</td>\n      <td>...</td>\n      <td>...</td>\n    </tr>\n    <tr>\n      <td>151</td>\n      <td>5158</td>\n      <td>2004276</td>\n      <td>82</td>\n      <td>1480786200</td>\n      <td>10176</td>\n      <td>10215</td>\n      <td>16</td>\n      <td>1</td>\n      <td>4</td>\n      <td>5</td>\n      <td>1.199295</td>\n      <td>1.132898</td>\n      <td>1.481481</td>\n      <td>0.881834</td>\n      <td>1.578019</td>\n      <td>2.027290</td>\n    </tr>\n    <tr>\n      <td>152</td>\n      <td>5135</td>\n      <td>2004253</td>\n      <td>82</td>\n      <td>1481658300</td>\n      <td>10250</td>\n      <td>10215</td>\n      <td>9</td>\n      <td>2</td>\n      <td>2</td>\n      <td>1</td>\n      <td>1.234568</td>\n      <td>1.307190</td>\n      <td>1.481481</td>\n      <td>0.881834</td>\n      <td>1.624431</td>\n      <td>2.339181</td>\n    </tr>\n    <tr>\n      <td>153</td>\n      <td>5306</td>\n      <td>2004424</td>\n      <td>82</td>\n      <td>1493566200</td>\n      <td>10183</td>\n      <td>10215</td>\n      <td>2</td>\n      <td>2</td>\n      <td>6</td>\n      <td>0</td>\n      <td>1.234568</td>\n      <td>0.653595</td>\n      <td>1.481481</td>\n      <td>0.881834</td>\n      <td>1.624431</td>\n      <td>1.169591</td>\n    </tr>\n    <tr>\n      <td>154</td>\n      <td>5091</td>\n      <td>2004209</td>\n      <td>82</td>\n      <td>1479558600</td>\n      <td>10135</td>\n      <td>10215</td>\n      <td>6</td>\n      <td>1</td>\n      <td>4</td>\n      <td>1</td>\n      <td>0.952381</td>\n      <td>0.392157</td>\n      <td>1.481481</td>\n      <td>0.881834</td>\n      <td>1.253133</td>\n      <td>0.701754</td>\n    </tr>\n    <tr>\n      <td>155</td>\n      <td>4997</td>\n      <td>2004115</td>\n      <td>82</td>\n      <td>1472306400</td>\n      <td>10022</td>\n      <td>10215</td>\n      <td>14</td>\n      <td>1</td>\n      <td>13</td>\n      <td>3</td>\n      <td>0.705467</td>\n      <td>0.827887</td>\n      <td>1.481481</td>\n      <td>0.881834</td>\n      <td>0.928247</td>\n      <td>1.481481</td>\n    </tr>\n  </tbody>\n</table>\n<p>156 rows × 16 columns</p>\n</div>",
      "text/plain": "     Unnamed: 0  match_id  competition_id   open_date  home_team  away_team  \\\n0          4970   2004087              82  1471186800      10215      10249   \n1          5149   2004267              82  1480858200      10115      10249   \n2          5009   2004127              82  1474052400      10180      10249   \n3          5109   2004227              82  1477758600      10244      10249   \n4          5192   2004310              82  1489941000      10181      10249   \n..          ...       ...             ...         ...        ...        ...   \n151        5158   2004276              82  1480786200      10176      10215   \n152        5135   2004253              82  1481658300      10250      10215   \n153        5306   2004424              82  1493566200      10183      10215   \n154        5091   2004209              82  1479558600      10135      10215   \n155        4997   2004115              82  1472306400      10022      10215   \n\n    home_rank  home_score away_rank  away_score  homeAttack  homeDefense  \\\n0           2           3         8           4    1.093474     0.479303   \n1          12           4         3           3    0.811287     1.481481   \n2           2           1         6           2    1.128748     1.307190   \n3          11           2         3           4    0.670194     1.002179   \n4           3           1         4           1    1.657848     0.915033   \n..        ...         ...       ...         ...         ...          ...   \n151        16           1         4           5    1.199295     1.132898   \n152         9           2         2           1    1.234568     1.307190   \n153         2           2         6           0    1.234568     0.653595   \n154         6           1         4           1    0.952381     0.392157   \n155        14           1        13           3    0.705467     0.827887   \n\n     awayAttack  awayDefense  lambdaHome  lambdaAway  \n0      1.307190     0.987654    1.611436    0.756794  \n1      1.307190     0.987654    1.195582    2.339181  \n2      1.307190     0.987654    1.663418    2.063983  \n3      1.307190     0.987654    0.987654    1.582387  \n4      1.307190     0.987654    2.443145    1.444788  \n..          ...          ...         ...         ...  \n151    1.481481     0.881834    1.578019    2.027290  \n152    1.481481     0.881834    1.624431    2.339181  \n153    1.481481     0.881834    1.624431    1.169591  \n154    1.481481     0.881834    1.253133    0.701754  \n155    1.481481     0.881834    0.928247    1.481481  \n\n[156 rows x 16 columns]"
     },
     "execution_count": 6,
     "metadata": {},
     "output_type": "execute_result"
    }
   ],
   "source": [
    "# 整理當前賽季資料 準備進行預測\n",
    "integration = pd.merge(curSeason, teams.loc[:,['homeAttack','homeDefense']], left_on='home_team', right_on='team_id')\n",
    "\n",
    "integration = pd.merge(integration, teams.loc[:,['awayAttack','awayDefense']], left_on='away_team', right_on='team_id')\n",
    "\n",
    "# # TODO 計算可能進球數\n",
    "# 主隊可能進球數 = 主隊進攻率 * 客隊防守率 * 聯盟主隊平均主場進球數\n",
    "integration['lambdaHome'] = integration['homeAttack'] * integration['awayDefense'] * seasonHomeAvg\n",
    "# # 客隊可能進球數 = 客隊進攻率 * 主隊防守率 * 聯盟客隊平均客場進球數\n",
    "integration['lambdaAway'] = integration['awayAttack'] * integration['homeDefense'] * seasonAwayAvg\n",
    "\n",
    "# # curSeason['awayPoisson'] = poisson.pmf(np.arange(awayMax + 1), lambdaAway)\n",
    "\n",
    "# integration.loc[integration.loc[:, \"match_id\"] == 2004333]\n",
    "integration"
   ]
  },
  {
   "cell_type": "code",
   "execution_count": 7,
   "metadata": {},
   "outputs": [],
   "source": [
    "# TODO 使用Poisson計算比分分布\n",
    "scorePred =  {\n",
    "        '0:0': {},\n",
    "        '0:1': {},\n",
    "        '0:2': {},\n",
    "        '0:3': {},\n",
    "        '1:0': {},\n",
    "        '1:1': {},\n",
    "        '1:2': {},\n",
    "        '1:3': {},\n",
    "        '2:0': {},\n",
    "        '2:1': {},\n",
    "        '2:2': {},\n",
    "        '2:3': {},\n",
    "        '3:0': {},\n",
    "        '3:1': {},\n",
    "        '3:2': {},\n",
    "        '3:3': {},\n",
    "        '主隊三球以上': {},\n",
    "        '客隊三球以上':{},\n",
    "        '其他': {},\n",
    "    }\n",
    "\n",
    "for index, row in integration.iterrows():\n",
    "    homePoisson = poisson.pmf(np.arange(homeMax + 1), row['lambdaHome'])\n",
    "    awayPoisson = poisson.pmf(np.arange(awayMax + 1), row['lambdaAway'])\n",
    "\n",
    "    matchId = row['match_id']\n",
    "    \n",
    "    for i in np.arange(homeMax + 1):\n",
    "        for j in np.arange(awayMax + 1):\n",
    "\n",
    "            score = str(i) + ':' + str(j)\n",
    "            \n",
    "            if i > 3 and j > 3:\n",
    "                score = '其他'\n",
    "            elif i > 3:\n",
    "                score = '主隊三球以上'\n",
    "            elif j > 3:\n",
    "                score = '客隊三球以上'\n",
    "\n",
    "            prediction = homePoisson[i] * awayPoisson[j] * 100\n",
    "\n",
    "            if not score == str(i) + ':' + str(j) and matchId in scorePred[score]:\n",
    "                prediction = scorePred[score][matchId] + prediction\n",
    "\n",
    "            scorePred[score][matchId] = prediction\n",
    "\n",
    "    # result[] = scorePred"
   ]
  },
  {
   "cell_type": "code",
   "execution_count": 8,
   "metadata": {},
   "outputs": [
    {
     "data": {
      "text/html": "<div>\n<style scoped>\n    .dataframe tbody tr th:only-of-type {\n        vertical-align: middle;\n    }\n\n    .dataframe tbody tr th {\n        vertical-align: top;\n    }\n\n    .dataframe thead th {\n        text-align: right;\n    }\n</style>\n<table border=\"1\" class=\"dataframe\">\n  <thead>\n    <tr style=\"text-align: right;\">\n      <th></th>\n      <th>0:0</th>\n      <th>0:1</th>\n      <th>0:2</th>\n      <th>0:3</th>\n      <th>1:0</th>\n      <th>1:1</th>\n      <th>1:2</th>\n      <th>1:3</th>\n      <th>2:0</th>\n      <th>2:1</th>\n      <th>2:2</th>\n      <th>2:3</th>\n      <th>3:0</th>\n      <th>3:1</th>\n      <th>3:2</th>\n      <th>3:3</th>\n      <th>主隊三球以上</th>\n      <th>客隊三球以上</th>\n      <th>其他</th>\n    </tr>\n  </thead>\n  <tbody>\n    <tr>\n      <td>2004087</td>\n      <td>9.364634</td>\n      <td>7.087098</td>\n      <td>2.681737</td>\n      <td>0.676507</td>\n      <td>15.090508</td>\n      <td>11.420405</td>\n      <td>4.321447</td>\n      <td>1.090148</td>\n      <td>12.158694</td>\n      <td>9.201626</td>\n      <td>3.481867</td>\n      <td>0.878352</td>\n      <td>6.530986</td>\n      <td>4.942610</td>\n      <td>1.870269</td>\n      <td>0.471803</td>\n      <td>7.841300</td>\n      <td>0.690209</td>\n      <td>0.059299</td>\n    </tr>\n    <tr>\n      <td>2004267</td>\n      <td>2.916567</td>\n      <td>6.822380</td>\n      <td>7.979391</td>\n      <td>6.221748</td>\n      <td>3.486994</td>\n      <td>8.156711</td>\n      <td>9.540013</td>\n      <td>7.438607</td>\n      <td>2.084493</td>\n      <td>4.876007</td>\n      <td>5.702932</td>\n      <td>4.446731</td>\n      <td>0.830727</td>\n      <td>1.943221</td>\n      <td>2.272773</td>\n      <td>1.772143</td>\n      <td>2.622588</td>\n      <td>19.184368</td>\n      <td>0.657756</td>\n    </tr>\n    <tr>\n      <td>2004127</td>\n      <td>2.405527</td>\n      <td>4.964967</td>\n      <td>5.123805</td>\n      <td>3.525150</td>\n      <td>4.001396</td>\n      <td>8.258815</td>\n      <td>8.523029</td>\n      <td>5.863797</td>\n      <td>3.327997</td>\n      <td>6.868930</td>\n      <td>7.088679</td>\n      <td>4.876972</td>\n      <td>1.845283</td>\n      <td>3.808634</td>\n      <td>3.930478</td>\n      <td>2.704148</td>\n      <td>7.281668</td>\n      <td>13.614561</td>\n      <td>1.285526</td>\n    </tr>\n    <tr>\n      <td>2004227</td>\n      <td>7.653236</td>\n      <td>12.110383</td>\n      <td>9.581659</td>\n      <td>5.053965</td>\n      <td>7.558751</td>\n      <td>11.960872</td>\n      <td>9.463367</td>\n      <td>4.991570</td>\n      <td>3.732717</td>\n      <td>5.906604</td>\n      <td>4.673267</td>\n      <td>2.464973</td>\n      <td>1.228878</td>\n      <td>1.944561</td>\n      <td>1.538524</td>\n      <td>0.811514</td>\n      <td>1.677563</td>\n      <td>7.377907</td>\n      <td>0.136498</td>\n    </tr>\n    <tr>\n      <td>2004310</td>\n      <td>2.048764</td>\n      <td>2.960031</td>\n      <td>2.138309</td>\n      <td>1.029802</td>\n      <td>5.005428</td>\n      <td>7.231785</td>\n      <td>5.224199</td>\n      <td>2.515954</td>\n      <td>6.114493</td>\n      <td>8.834149</td>\n      <td>6.381738</td>\n      <td>3.073421</td>\n      <td>4.979531</td>\n      <td>7.194369</td>\n      <td>5.197170</td>\n      <td>2.502937</td>\n      <td>20.485318</td>\n      <td>4.476222</td>\n      <td>1.265970</td>\n    </tr>\n    <tr>\n      <td>...</td>\n      <td>...</td>\n      <td>...</td>\n      <td>...</td>\n      <td>...</td>\n      <td>...</td>\n      <td>...</td>\n      <td>...</td>\n      <td>...</td>\n      <td>...</td>\n      <td>...</td>\n      <td>...</td>\n      <td>...</td>\n      <td>...</td>\n      <td>...</td>\n      <td>...</td>\n      <td>...</td>\n      <td>...</td>\n      <td>...</td>\n      <td>...</td>\n    </tr>\n    <tr>\n      <td>2004276</td>\n      <td>2.717903</td>\n      <td>5.509979</td>\n      <td>5.585164</td>\n      <td>3.774250</td>\n      <td>4.288903</td>\n      <td>8.694852</td>\n      <td>8.813495</td>\n      <td>5.955838</td>\n      <td>3.383985</td>\n      <td>6.860321</td>\n      <td>6.953932</td>\n      <td>4.699213</td>\n      <td>1.779998</td>\n      <td>3.608573</td>\n      <td>3.657812</td>\n      <td>2.471816</td>\n      <td>6.355256</td>\n      <td>13.212466</td>\n      <td>1.066186</td>\n    </tr>\n    <tr>\n      <td>2004253</td>\n      <td>1.899437</td>\n      <td>4.443127</td>\n      <td>5.196640</td>\n      <td>4.051961</td>\n      <td>3.085505</td>\n      <td>7.217555</td>\n      <td>8.441585</td>\n      <td>6.582133</td>\n      <td>2.506096</td>\n      <td>5.862212</td>\n      <td>6.856388</td>\n      <td>5.346112</td>\n      <td>1.356994</td>\n      <td>3.174254</td>\n      <td>3.712578</td>\n      <td>2.894797</td>\n      <td>6.390982</td>\n      <td>18.215245</td>\n      <td>1.602885</td>\n    </tr>\n    <tr>\n      <td>2004424</td>\n      <td>6.117467</td>\n      <td>7.154932</td>\n      <td>4.184171</td>\n      <td>1.631256</td>\n      <td>9.937406</td>\n      <td>11.622696</td>\n      <td>6.796899</td>\n      <td>2.649863</td>\n      <td>8.071317</td>\n      <td>9.440137</td>\n      <td>5.520548</td>\n      <td>2.152260</td>\n      <td>4.370434</td>\n      <td>5.111618</td>\n      <td>2.989251</td>\n      <td>1.165400</td>\n      <td>7.824299</td>\n      <td>2.842912</td>\n      <td>0.250167</td>\n    </tr>\n    <tr>\n      <td>2004209</td>\n      <td>14.158044</td>\n      <td>9.935470</td>\n      <td>3.486130</td>\n      <td>0.815469</td>\n      <td>17.741910</td>\n      <td>12.450463</td>\n      <td>4.368584</td>\n      <td>1.021891</td>\n      <td>11.116485</td>\n      <td>7.801042</td>\n      <td>2.737208</td>\n      <td>0.640283</td>\n      <td>4.643477</td>\n      <td>3.258581</td>\n      <td>1.143362</td>\n      <td>0.267453</td>\n      <td>3.801506</td>\n      <td>0.557094</td>\n      <td>0.022156</td>\n    </tr>\n    <tr>\n      <td>2004115</td>\n      <td>8.983973</td>\n      <td>13.309589</td>\n      <td>9.858955</td>\n      <td>4.868620</td>\n      <td>8.339341</td>\n      <td>12.354580</td>\n      <td>9.151541</td>\n      <td>4.519279</td>\n      <td>3.870482</td>\n      <td>5.734048</td>\n      <td>4.247443</td>\n      <td>2.097503</td>\n      <td>1.197587</td>\n      <td>1.774203</td>\n      <td>1.314225</td>\n      <td>0.649000</td>\n      <td>1.390731</td>\n      <td>6.154640</td>\n      <td>0.092765</td>\n    </tr>\n  </tbody>\n</table>\n<p>156 rows × 19 columns</p>\n</div>",
      "text/plain": "               0:0        0:1       0:2       0:3        1:0        1:1  \\\n2004087   9.364634   7.087098  2.681737  0.676507  15.090508  11.420405   \n2004267   2.916567   6.822380  7.979391  6.221748   3.486994   8.156711   \n2004127   2.405527   4.964967  5.123805  3.525150   4.001396   8.258815   \n2004227   7.653236  12.110383  9.581659  5.053965   7.558751  11.960872   \n2004310   2.048764   2.960031  2.138309  1.029802   5.005428   7.231785   \n...            ...        ...       ...       ...        ...        ...   \n2004276   2.717903   5.509979  5.585164  3.774250   4.288903   8.694852   \n2004253   1.899437   4.443127  5.196640  4.051961   3.085505   7.217555   \n2004424   6.117467   7.154932  4.184171  1.631256   9.937406  11.622696   \n2004209  14.158044   9.935470  3.486130  0.815469  17.741910  12.450463   \n2004115   8.983973  13.309589  9.858955  4.868620   8.339341  12.354580   \n\n              1:2       1:3        2:0       2:1       2:2       2:3  \\\n2004087  4.321447  1.090148  12.158694  9.201626  3.481867  0.878352   \n2004267  9.540013  7.438607   2.084493  4.876007  5.702932  4.446731   \n2004127  8.523029  5.863797   3.327997  6.868930  7.088679  4.876972   \n2004227  9.463367  4.991570   3.732717  5.906604  4.673267  2.464973   \n2004310  5.224199  2.515954   6.114493  8.834149  6.381738  3.073421   \n...           ...       ...        ...       ...       ...       ...   \n2004276  8.813495  5.955838   3.383985  6.860321  6.953932  4.699213   \n2004253  8.441585  6.582133   2.506096  5.862212  6.856388  5.346112   \n2004424  6.796899  2.649863   8.071317  9.440137  5.520548  2.152260   \n2004209  4.368584  1.021891  11.116485  7.801042  2.737208  0.640283   \n2004115  9.151541  4.519279   3.870482  5.734048  4.247443  2.097503   \n\n              3:0       3:1       3:2       3:3     主隊三球以上     客隊三球以上  \\\n2004087  6.530986  4.942610  1.870269  0.471803   7.841300   0.690209   \n2004267  0.830727  1.943221  2.272773  1.772143   2.622588  19.184368   \n2004127  1.845283  3.808634  3.930478  2.704148   7.281668  13.614561   \n2004227  1.228878  1.944561  1.538524  0.811514   1.677563   7.377907   \n2004310  4.979531  7.194369  5.197170  2.502937  20.485318   4.476222   \n...           ...       ...       ...       ...        ...        ...   \n2004276  1.779998  3.608573  3.657812  2.471816   6.355256  13.212466   \n2004253  1.356994  3.174254  3.712578  2.894797   6.390982  18.215245   \n2004424  4.370434  5.111618  2.989251  1.165400   7.824299   2.842912   \n2004209  4.643477  3.258581  1.143362  0.267453   3.801506   0.557094   \n2004115  1.197587  1.774203  1.314225  0.649000   1.390731   6.154640   \n\n               其他  \n2004087  0.059299  \n2004267  0.657756  \n2004127  1.285526  \n2004227  0.136498  \n2004310  1.265970  \n...           ...  \n2004276  1.066186  \n2004253  1.602885  \n2004424  0.250167  \n2004209  0.022156  \n2004115  0.092765  \n\n[156 rows x 19 columns]"
     },
     "execution_count": 8,
     "metadata": {},
     "output_type": "execute_result"
    }
   ],
   "source": [
    "test = pd.DataFrame.from_dict(scorePred)\n",
    "test"
   ]
  },
  {
   "cell_type": "code",
   "execution_count": 10,
   "metadata": {},
   "outputs": [],
   "source": [
    "# TODO 使用歷史資料進行驗證"
   ]
  },
  {
   "cell_type": "code",
   "execution_count": 9,
   "metadata": {},
   "outputs": [],
   "source": [
    "# TODO 結果呈現\n",
    "# 所有比分發生機率\n",
    "# 依實際分布情況排序\n",
    "# 依預估分布情況排序"
   ]
  }
 ]
}