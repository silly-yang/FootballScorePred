{
 "nbformat": 4,
 "nbformat_minor": 2,
 "metadata": {
  "language_info": {
   "name": "python",
   "codemirror_mode": {
    "name": "ipython",
    "version": 3
   },
   "version": "3.7.4-final"
  },
  "orig_nbformat": 2,
  "file_extension": ".py",
  "mimetype": "text/x-python",
  "name": "python",
  "npconvert_exporter": "python",
  "pygments_lexer": "ipython3",
  "version": 3,
  "kernelspec": {
   "name": "python37464bitbaseconda481ecdb60cbc4a04bdc42cbc50444e04",
   "display_name": "Python 3.7.4 64-bit ('base': conda)"
  }
 },
 "cells": [
  {
   "cell_type": "code",
   "execution_count": 1,
   "metadata": {},
   "outputs": [],
   "source": [
    "import os\n",
    "import numpy as np\n",
    "import seaborn as sns\n",
    "import pandas as pd\n",
    "from sklearn.preprocessing import MinMaxScaler"
   ]
  },
  {
   "cell_type": "code",
   "execution_count": 2,
   "metadata": {},
   "outputs": [],
   "source": [
    "# TODO 資料準備\n",
    "# 賽試資料\n",
    "matches = pd.read_csv(os.getcwd() + '/data/82/matches.csv')\n",
    "# 篩選完賽資料\n",
    "matches = matches.loc[matches.status == 8]\n",
    "# 移除不必要欄位\n",
    "matches = matches.drop(\n",
    "    columns=[\n",
    "        'status', \n",
    "        'competition_id', \n",
    "        'home_half_score', \n",
    "        'home_red', \n",
    "        'home_yellow',\n",
    "        'home_corner',\n",
    "        'away_half_score', \n",
    "        'away_red', \n",
    "        'away_yellow',\n",
    "        'away_corner'\n",
    "        ])\n",
    "\n",
    "# 删除有NaN rows\n",
    "matches = matches.dropna()"
   ]
  },
  {
   "cell_type": "code",
   "execution_count": 3,
   "metadata": {},
   "outputs": [],
   "source": [
    "# 統計賽果資料 主、客、和 次數\n",
    "def statisticalResults(data, dataType):\n",
    "    openDate = data['open_date']\n",
    "    home = data['home_team']\n",
    "    away = data['away_team']\n",
    "\n",
    "    if dataType == 'history':\n",
    "        df = matches.loc[\n",
    "            (matches.open_date < openDate) & \n",
    "            (matches.home_team == home) &\n",
    "            (matches.away_team == away)\n",
    "        ] \n",
    "    else:\n",
    "        df = pd.concat([\n",
    "            matches.loc[(matches.open_date < openDate) & \\\n",
    "                        (matches.home_team == home)],\n",
    "            matches.loc[(matches.open_date < openDate) & \\\n",
    "                        (matches.away_team == home)],\n",
    "        ], axis=0)\n",
    "\n",
    "    df['result'] = np.where(\n",
    "        (df['home_score'] > df['away_score']), 1, np.where(\n",
    "        (df['home_score'] == df['away_score']), 0, 2))\n",
    "    \n",
    "    df = df.sort_values(by=['open_date'],ascending=False).iloc[:15]\n",
    "\n",
    "    return df.loc[df.result == 1].shape[0], \\\n",
    "            df.loc[df.result == 0].shape[0], \\\n",
    "            df.loc[df.result == 2].shape[0]\n",
    "    "
   ]
  },
  {
   "cell_type": "code",
   "execution_count": 4,
   "metadata": {},
   "outputs": [],
   "source": [
    "# 各球隊作為主場球隊時 進球表現\n",
    "# 各球隊歷史交鋒(相同主客-近15場) \n",
    "# 各球隊近期對戰(近15場) \n",
    "matches['history_won'],  \\\n",
    "matches['history_drawn'], \\\n",
    "matches['history_lost'] = zip(*matches.apply(statisticalResults, \\\n",
    "                                args = ('history',), axis = 1))\n",
    "\n",
    "matches['recent_won'],  \\\n",
    "matches['recent_drawn'], \\\n",
    "matches['recent_lost'] = zip(*matches.apply(statisticalResults, \\\n",
    "                                args = ('recent',), axis = 1))"
   ]
  },
  {
   "cell_type": "code",
   "execution_count": null,
   "metadata": {},
   "outputs": [],
   "source": [
    "matches"
   ]
  },
  {
   "cell_type": "code",
   "execution_count": null,
   "metadata": {},
   "outputs": [],
   "source": [
    "# 換算 歷史對戰、近期對戰 主隊贏球概率\n",
    "matches['history_total'] = matches['history_won'] + \\\n",
    "                            matches['history_drawn'] + \\\n",
    "                            matches['history_lost']\n",
    "matches['history_rate'] = matches['history_won'] / matches['history_total'] \n",
    "                            \n",
    "matches['recent_total'] = matches['recent_won'] + \\\n",
    "                            matches['recent_drawn'] + \\\n",
    "                            matches['recent_lost']\n",
    "matches['recent_rate'] = matches['recent_won'] / matches['recent_total'] "
   ]
  },
  {
   "cell_type": "code",
   "execution_count": null,
   "metadata": {},
   "outputs": [],
   "source": [
    "# 清除null值\n",
    "matches = matches.dropna()\n",
    "\n",
    "# 移除 歷史 近期賽事 總場次為0 賽事\n",
    "matches = matches[~(matches['history_total'].isin([0]))]\n",
    "matches = matches[~(matches['recent_rate'].isin([0]))]\n",
    "\n",
    "# 移除不必要欄位\n",
    "matches = matches.drop(\n",
    "    columns=[\n",
    "        'open_date', \n",
    "        'history_won', \n",
    "        'history_drawn', \n",
    "        'history_lost', \n",
    "        'history_total',\n",
    "        'recent_won',\n",
    "        'recent_drawn',\n",
    "        'recent_lost',\n",
    "        'recent_rate'\n",
    "        ])"
   ]
  },
  {
   "cell_type": "code",
   "execution_count": null,
   "metadata": {},
   "outputs": [],
   "source": [
    "matches"
   ]
  },
  {
   "cell_type": "code",
   "execution_count": null,
   "metadata": {},
   "outputs": [],
   "source": [
    "# 整理情報資料\n",
    "intelligences = pd.read_csv(os.getcwd() + '/data/82/info.csv')\n",
    "\n",
    "# 移除重複資料\n",
    "intelligences.drop_duplicates(\n",
    "    ['match_id','info_type','team_info','level','content'],\n",
    "    keep='first',\n",
    "    inplace=True\n",
    ")\n",
    "\n",
    "# 移除 level 0 情報\n",
    "intelligences = intelligences[~(intelligences['level'].isin([0]))]\n",
    "\n",
    "# 分主客、情報好壞、level 計算數量\n",
    "intelligences = intelligences.groupby(['match_id', 'info_type', 'level'])                           ['content'].size().reset_index(name='count')\n",
    "\n",
    "# 計算情報權重 = 筆數 * level\n",
    "intelligences['weights'] = intelligences['level'] * intelligences['count']"
   ]
  },
  {
   "cell_type": "code",
   "execution_count": null,
   "metadata": {},
   "outputs": [],
   "source": [
    "# TODO 構造特徵\n",
    "\n",
    "# 主場球隊名\n",
    "# 客場球隊名\n",
    "# 全場 主場球隊進球數\n",
    "# 全場 客場球隊進球數\n",
    "# 比賽結果 ( H= 主場贏, D= 平局, A= 客場贏)\n",
    "# 比賽結果 ( 比分 )\n",
    "# 主場淨勝球數\n",
    "# 客場的淨胜球數\n",
    "# 主場累計得分\n",
    "# 客場累計得分\n",
    "# Poisson各比分機率\n",
    "\n",
    "# 統計某支隊伍最近三場比賽的表現\n",
    "# HM(n) 代表主場球隊上一次比賽的輸贏，\n",
    "# AM(n) 代表客場球隊上一次比賽是輸贏。\n",
    "\n",
    "# 加入比賽輪次為特徵（第幾個輪次MW）"
   ]
  },
  {
   "cell_type": "code",
   "execution_count": null,
   "metadata": {},
   "outputs": [],
   "source": [
    "# TODO 清洗資料\n",
    "# 每場賽事特徵值皆是依據過往比賽所統計出來，因此最一開始前幾比資料無法統計信息不足，必須拋棄。"
   ]
  },
  {
   "cell_type": "code",
   "execution_count": null,
   "metadata": {},
   "outputs": [],
   "source": [
    "# TODO 分析敘述資料、解決樣本不均衡(暫定)\n",
    "# 依照先前統計發現主場獲勝的比例接近 50% ，對於三分類(主、客、和)，標籤比例是不均衡的。\n",
    "# 因此需簡化為二分類問題，也就是主場球隊會不會勝利。"
   ]
  },
  {
   "cell_type": "code",
   "execution_count": null,
   "metadata": {},
   "outputs": [],
   "source": [
    "# TODO 將數據拆分為「特徵值」與「標籤值」"
   ]
  },
  {
   "cell_type": "code",
   "execution_count": null,
   "metadata": {},
   "outputs": [],
   "source": [
    "# TODO 數據標準化\n",
    "# 主場淨勝球數、客場的淨胜球數、主場累計得分、客場累計得分 數據內容區間範圍太大因此需正規劃"
   ]
  },
  {
   "cell_type": "code",
   "execution_count": null,
   "metadata": {},
   "outputs": [],
   "source": [
    "# TODO 轉換特徵數據型態、預覽"
   ]
  },
  {
   "cell_type": "code",
   "execution_count": null,
   "metadata": {},
   "outputs": [],
   "source": [
    "# TODO 數據關聯圖形化描述\n",
    "# 皮爾遜相關熱力圖"
   ]
  },
  {
   "cell_type": "code",
   "execution_count": null,
   "metadata": {},
   "outputs": [],
   "source": [
    "# TODO 再次清潔數據\n",
    "# 依照關聯圖移除無異議數據"
   ]
  },
  {
   "cell_type": "code",
   "execution_count": null,
   "metadata": {},
   "outputs": [],
   "source": [
    "# TODO 切割數據\n",
    "# 將數據集隨機分成為訓練集和測試集"
   ]
  },
  {
   "cell_type": "code",
   "execution_count": null,
   "metadata": {},
   "outputs": [],
   "source": [
    "# TODO 建立模型\n",
    "# 支持向量機(SVM)"
   ]
  },
  {
   "cell_type": "code",
   "execution_count": null,
   "metadata": {},
   "outputs": [],
   "source": [
    "# TODO 結果評估"
   ]
  },
  {
   "cell_type": "code",
   "execution_count": null,
   "metadata": {},
   "outputs": [],
   "source": [
    "# TODO 參數調整"
   ]
  },
  {
   "cell_type": "code",
   "execution_count": null,
   "metadata": {},
   "outputs": [],
   "source": [
    "# TODO 結論"
   ]
  },
  {
   "cell_type": "code",
   "execution_count": null,
   "metadata": {},
   "outputs": [],
   "source": [
    "# 屍體 2 \n",
    "# # 合併整合資料\n",
    "# consolidationDF = pd.merge(matches, historyDF, how='outer', on=['match_id']) \n",
    "# consolidationDF = pd.merge(consolidationDF, recentDF, how='outer', on=['match_id']) \n",
    "# consolidationDF = consolidationDF.dropna()"
   ]
  },
  {
   "cell_type": "code",
   "execution_count": null,
   "metadata": {},
   "outputs": [],
   "source": [
    "# 屍體\n",
    "# # 各球隊作為主場球隊時 進球表現\n",
    "# # 各球隊歷史交鋒(相同主客-近15場) \n",
    "# # 各球隊近期對戰(近15場) \n",
    "# history = []\n",
    "# recent = []\n",
    "# for index, row in matches.iterrows():\n",
    "#     matchId = row['match_id']\n",
    "#     openDate = row['open_date']\n",
    "#     home = row['home_team']\n",
    "#     away = row['away_team']\n",
    "#     df = matches.loc[\n",
    "#         (matches.open_date < openDate) & \n",
    "#         (matches.home_team == home) &\n",
    "#         (matches.away_team == away)] \n",
    "    \n",
    "#     df['result'] = np.where(\n",
    "#         (df['home_score'] > df['away_score']), 1, np.where(\n",
    "#         (df['home_score'] == df['away_score']), 0, 2))\n",
    "    \n",
    "#     df = df.sort_values(by=['open_date'],ascending=False).iloc[:15]\n",
    "\n",
    "#     history.append({\n",
    "#         'match_id': matchId,\n",
    "#         'history_won': df.loc[df.result == 1].shape[0],\n",
    "#         'history_drawn': df.loc[df.result == 0].shape[0],\n",
    "#         'history_lost': df.loc[df.result == 2].shape[0]\n",
    "#     })\n",
    "\n",
    "#     df = pd.concat([\n",
    "#         matches.loc[(matches.open_date < openDate) & (matches.home_team == home)],\n",
    "#         matches.loc[(matches.open_date < openDate) & (matches.away_team == home)],\n",
    "#         ], axis=0)\n",
    "\n",
    "#     df['result'] = np.where(\n",
    "#         (df['home_score'] > df['away_score']), 1, np.where(\n",
    "#         (df['home_score'] == df['away_score']), 0, 2))\n",
    "\n",
    "#     df = df.sort_values(by=['open_date'],ascending=False).iloc[:15]\n",
    "\n",
    "#     recent.append({\n",
    "#         'match_id': matchId,\n",
    "#         'recent_won': df.loc[df.result == 1].shape[0],\n",
    "#         'recent_drawn': df.loc[df.result == 0].shape[0],\n",
    "#         'recent_lost': df.loc[df.result == 2].shape[0]\n",
    "#     })\n",
    "\n",
    "# historyDF = pd.DataFrame.from_dict(history)\n",
    "# historyDF['history_rate'] = historyDF['history_won'] / (historyDF['history_won'] + historyDF['history_drawn'] + historyDF['history_lost'])\n",
    "\n",
    "# recentDF = pd.DataFrame.from_dict(recent)\n",
    "# recentDF['recent_rate'] = recentDF['recent_won'] / (recentDF['recent_won'] + recentDF['recent_drawn'] + recentDF['recent_lost'])"
   ]
  }
 ]
}