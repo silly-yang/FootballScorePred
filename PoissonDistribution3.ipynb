{
 "nbformat": 4,
 "nbformat_minor": 2,
 "metadata": {
  "language_info": {
   "name": "python",
   "codemirror_mode": {
    "name": "ipython",
    "version": 3
   },
   "version": "3.7.4-final"
  },
  "orig_nbformat": 2,
  "file_extension": ".py",
  "mimetype": "text/x-python",
  "name": "python",
  "npconvert_exporter": "python",
  "pygments_lexer": "ipython3",
  "version": 3,
  "kernelspec": {
   "name": "python37464bitbaseconda481ecdb60cbc4a04bdc42cbc50444e04",
   "display_name": "Python 3.7.4 64-bit ('base': conda)"
  }
 },
 "cells": [
  {
   "cell_type": "code",
   "execution_count": null,
   "metadata": {},
   "outputs": [],
   "source": [
    "# TODO 資料整理，各球隊作為主場球隊時 進球表現"
   ]
  },
  {
   "cell_type": "code",
   "execution_count": 1,
   "metadata": {},
   "outputs": [],
   "source": [
    "# TODO 構造特徵\n",
    "\n",
    "# 主場球隊名\n",
    "# 客場球隊名\n",
    "# 全場 主場球隊進球數\n",
    "# 全場 客場球隊進球數\n",
    "# 比賽結果 ( H= 主場贏, D= 平局, A= 客場贏)\n",
    "# 比賽結果 ( 比分 )\n",
    "# 主場淨勝球數\n",
    "# 客場的淨胜球數\n",
    "# 主場累計得分\n",
    "# 客場累計得分\n",
    "# Poisson各比分機率\n",
    "\n",
    "# 統計某支隊伍最近三場比賽的表現\n",
    "# HM(n) 代表主場球隊上一次比賽的輸贏，\n",
    "# AM(n) 代表客場球隊上一次比賽是輸贏。\n",
    "\n",
    "# 加入比賽輪次為特徵（第幾個輪次MW）"
   ]
  },
  {
   "cell_type": "code",
   "execution_count": null,
   "metadata": {},
   "outputs": [],
   "source": [
    "# TODO 清洗資料\n",
    "# 每場賽事特徵值皆是依據過往比賽所統計出來，因此最一開始前幾比資料無法統計信息不足，必須拋棄。"
   ]
  },
  {
   "cell_type": "code",
   "execution_count": null,
   "metadata": {},
   "outputs": [],
   "source": [
    "# TODO 分析敘述資料、解決樣本不均衡(暫定)\n",
    "# 依照先前統計發現主場獲勝的比例接近 50% ，對於三分類(主、客、和)，標籤比例是不均衡的。\n",
    "# 因此需簡化為二分類問題，也就是主場球隊會不會勝利。"
   ]
  },
  {
   "cell_type": "code",
   "execution_count": null,
   "metadata": {},
   "outputs": [],
   "source": [
    "# TODO 將數據拆分為「特徵值」與「標籤值」"
   ]
  },
  {
   "cell_type": "code",
   "execution_count": null,
   "metadata": {},
   "outputs": [],
   "source": [
    "# TODO 數據標準化\n",
    "# 主場淨勝球數、客場的淨胜球數、主場累計得分、客場累計得分 數據內容區間範圍太大因此需正規劃"
   ]
  },
  {
   "cell_type": "code",
   "execution_count": null,
   "metadata": {},
   "outputs": [],
   "source": [
    "# TODO 轉換特徵數據型態、預覽"
   ]
  },
  {
   "cell_type": "code",
   "execution_count": null,
   "metadata": {},
   "outputs": [],
   "source": [
    "# TODO 數據關聯圖形化描述\n",
    "# 皮爾遜相關熱力圖"
   ]
  },
  {
   "cell_type": "code",
   "execution_count": null,
   "metadata": {},
   "outputs": [],
   "source": [
    "# TODO 再次清潔數據\n",
    "# 依照關聯圖移除無異議數據"
   ]
  },
  {
   "cell_type": "code",
   "execution_count": 2,
   "metadata": {},
   "outputs": [],
   "source": [
    "# TODO 切割數據\n",
    "# 將數據集隨機分成為訓練集和測試集"
   ]
  },
  {
   "cell_type": "code",
   "execution_count": null,
   "metadata": {},
   "outputs": [],
   "source": [
    "# TODO 建立模型\n",
    "# 支持向量機介紹(SVM)"
   ]
  },
  {
   "cell_type": "code",
   "execution_count": null,
   "metadata": {},
   "outputs": [],
   "source": [
    "# TODO 結果評估"
   ]
  },
  {
   "cell_type": "code",
   "execution_count": null,
   "metadata": {},
   "outputs": [],
   "source": [
    "# TODO 參數調整"
   ]
  },
  {
   "cell_type": "code",
   "execution_count": null,
   "metadata": {},
   "outputs": [],
   "source": [
    "# TODO 結論"
   ]
  }
 ]
}