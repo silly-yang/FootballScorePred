{
 "nbformat": 4,
 "nbformat_minor": 2,
 "metadata": {
  "language_info": {
   "name": "python",
   "codemirror_mode": {
    "name": "ipython",
    "version": 3
   },
   "version": "3.7.4-final"
  },
  "orig_nbformat": 2,
  "file_extension": ".py",
  "mimetype": "text/x-python",
  "name": "python",
  "npconvert_exporter": "python",
  "pygments_lexer": "ipython3",
  "version": 3,
  "kernelspec": {
   "name": "python37464bitbaseconda481ecdb60cbc4a04bdc42cbc50444e04",
   "display_name": "Python 3.7.4 64-bit ('base': conda)"
  }
 },
 "cells": [
  {
   "cell_type": "code",
   "execution_count": 1,
   "metadata": {},
   "outputs": [],
   "source": [
    "import os\n",
    "import numpy as np\n",
    "import seaborn as sns\n",
    "import pandas as pd\n",
    "from sklearn.preprocessing import MinMaxScaler"
   ]
  },
  {
   "cell_type": "code",
   "execution_count": 2,
   "metadata": {},
   "outputs": [],
   "source": [
    "# TODO 資料準備\n",
    "# 賽試資料\n",
    "matches = pd.read_csv(os.getcwd() + '/data/82/matches.csv')\n",
    "# 篩選完賽資料\n",
    "matches = matches.loc[matches.status == 8]\n",
    "# 移除不必要欄位\n",
    "matches = matches.drop(\n",
    "    columns=[\n",
    "        'status', \n",
    "        'competition_id', \n",
    "        'home_half_score', \n",
    "        'home_red', \n",
    "        'home_yellow',\n",
    "        'home_corner',\n",
    "        'away_half_score', \n",
    "        'away_red', \n",
    "        'away_yellow',\n",
    "        'away_corner'\n",
    "        ])\n",
    "\n",
    "# 删除有NaN rows\n",
    "matches = matches.dropna()"
   ]
  },
  {
   "cell_type": "code",
   "execution_count": 3,
   "metadata": {},
   "outputs": [],
   "source": [
    "# 統計賽果資料 主、客、和 次數\n",
    "def statisticalResults(data, dataType):\n",
    "    openDate = data['open_date']\n",
    "    home = data['home_team']\n",
    "    away = data['away_team']\n",
    "\n",
    "    if dataType == 'history':\n",
    "        df = matches.loc[\n",
    "            (matches.open_date < openDate) & \n",
    "            (matches.home_team == home) &\n",
    "            (matches.away_team == away)\n",
    "        ] \n",
    "    else:\n",
    "        df = pd.concat([\n",
    "            matches.loc[(matches.open_date < openDate) & \\\n",
    "                        (matches.home_team == home)],\n",
    "            matches.loc[(matches.open_date < openDate) & \\\n",
    "                        (matches.away_team == home)],\n",
    "        ], axis=0)\n",
    "\n",
    "    df['result'] = np.where(\n",
    "        (df['home_score'] > df['away_score']), 1, np.where(\n",
    "        (df['home_score'] == df['away_score']), 0, 2))\n",
    "    \n",
    "    df = df.sort_values(by=['open_date'],ascending=False).iloc[:15]\n",
    "\n",
    "    return df.loc[df.result == 1].shape[0], \\\n",
    "            df.loc[df.result == 0].shape[0], \\\n",
    "            df.loc[df.result == 2].shape[0]\n",
    "    "
   ]
  },
  {
   "cell_type": "code",
   "execution_count": 4,
   "metadata": {},
   "outputs": [],
   "source": [
    "# 各球隊作為主場球隊時 進球表現\n",
    "# 各球隊歷史交鋒(相同主客-近15場) \n",
    "# 各球隊近期對戰(近15場) \n",
    "matches['history_won'],  \\\n",
    "matches['history_drawn'], \\\n",
    "matches['history_lost'] = zip(*matches.apply(statisticalResults, \\\n",
    "                                args = ('history',), axis = 1))\n",
    "\n",
    "matches['recent_won'],  \\\n",
    "matches['recent_drawn'], \\\n",
    "matches['recent_lost'] = zip(*matches.apply(statisticalResults, \\\n",
    "                                args = ('recent',), axis = 1))"
   ]
  },
  {
   "cell_type": "code",
   "execution_count": 5,
   "metadata": {},
   "outputs": [
    {
     "data": {
      "text/html": "<div>\n<style scoped>\n    .dataframe tbody tr th:only-of-type {\n        vertical-align: middle;\n    }\n\n    .dataframe tbody tr th {\n        vertical-align: top;\n    }\n\n    .dataframe thead th {\n        text-align: right;\n    }\n</style>\n<table border=\"1\" class=\"dataframe\">\n  <thead>\n    <tr style=\"text-align: right;\">\n      <th></th>\n      <th>Unnamed: 0</th>\n      <th>match_id</th>\n      <th>open_date</th>\n      <th>home_team</th>\n      <th>away_team</th>\n      <th>home_rank</th>\n      <th>home_score</th>\n      <th>away_rank</th>\n      <th>away_score</th>\n      <th>history_won</th>\n      <th>history_drawn</th>\n      <th>history_lost</th>\n      <th>recent_won</th>\n      <th>recent_drawn</th>\n      <th>recent_lost</th>\n    </tr>\n  </thead>\n  <tbody>\n    <tr>\n      <td>380</td>\n      <td>380</td>\n      <td>100380</td>\n      <td>1287237600</td>\n      <td>10226</td>\n      <td>10176</td>\n      <td>19</td>\n      <td>1</td>\n      <td>20</td>\n      <td>1</td>\n      <td>0</td>\n      <td>0</td>\n      <td>1</td>\n      <td>7</td>\n      <td>6</td>\n      <td>2</td>\n    </tr>\n    <tr>\n      <td>381</td>\n      <td>381</td>\n      <td>100381</td>\n      <td>1287237600</td>\n      <td>10135</td>\n      <td>10005</td>\n      <td>3</td>\n      <td>2</td>\n      <td>6</td>\n      <td>2</td>\n      <td>2</td>\n      <td>1</td>\n      <td>0</td>\n      <td>6</td>\n      <td>5</td>\n      <td>4</td>\n    </tr>\n    <tr>\n      <td>382</td>\n      <td>382</td>\n      <td>100382</td>\n      <td>1287237600</td>\n      <td>10215</td>\n      <td>10008</td>\n      <td>4</td>\n      <td>2</td>\n      <td>16</td>\n      <td>1</td>\n      <td>3</td>\n      <td>1</td>\n      <td>0</td>\n      <td>9</td>\n      <td>4</td>\n      <td>2</td>\n    </tr>\n    <tr>\n      <td>383</td>\n      <td>383</td>\n      <td>100383</td>\n      <td>1287237600</td>\n      <td>10007</td>\n      <td>10246</td>\n      <td>12</td>\n      <td>2</td>\n      <td>7</td>\n      <td>1</td>\n      <td>1</td>\n      <td>1</td>\n      <td>0</td>\n      <td>5</td>\n      <td>6</td>\n      <td>4</td>\n    </tr>\n    <tr>\n      <td>384</td>\n      <td>384</td>\n      <td>100384</td>\n      <td>1287237600</td>\n      <td>10018</td>\n      <td>10183</td>\n      <td>10</td>\n      <td>1</td>\n      <td>5</td>\n      <td>2</td>\n      <td>3</td>\n      <td>3</td>\n      <td>0</td>\n      <td>6</td>\n      <td>8</td>\n      <td>1</td>\n    </tr>\n    <tr>\n      <td>...</td>\n      <td>...</td>\n      <td>...</td>\n      <td>...</td>\n      <td>...</td>\n      <td>...</td>\n      <td>...</td>\n      <td>...</td>\n      <td>...</td>\n      <td>...</td>\n      <td>...</td>\n      <td>...</td>\n      <td>...</td>\n      <td>...</td>\n      <td>...</td>\n      <td>...</td>\n    </tr>\n    <tr>\n      <td>6365</td>\n      <td>6365</td>\n      <td>2680065</td>\n      <td>1583584200</td>\n      <td>10249</td>\n      <td>10115</td>\n      <td>1</td>\n      <td>2</td>\n      <td>18</td>\n      <td>1</td>\n      <td>3</td>\n      <td>1</td>\n      <td>0</td>\n      <td>9</td>\n      <td>0</td>\n      <td>6</td>\n    </tr>\n    <tr>\n      <td>6366</td>\n      <td>6366</td>\n      <td>2680066</td>\n      <td>1583685000</td>\n      <td>10135</td>\n      <td>10181</td>\n      <td>7</td>\n      <td>2</td>\n      <td>2</td>\n      <td>0</td>\n      <td>5</td>\n      <td>3</td>\n      <td>7</td>\n      <td>7</td>\n      <td>4</td>\n      <td>4</td>\n    </tr>\n    <tr>\n      <td>6367</td>\n      <td>6367</td>\n      <td>2680067</td>\n      <td>1583593200</td>\n      <td>10021</td>\n      <td>10184</td>\n      <td>8</td>\n      <td>1</td>\n      <td>20</td>\n      <td>0</td>\n      <td>0</td>\n      <td>0</td>\n      <td>0</td>\n      <td>5</td>\n      <td>5</td>\n      <td>5</td>\n    </tr>\n    <tr>\n      <td>6368</td>\n      <td>6368</td>\n      <td>2680068</td>\n      <td>1583593200</td>\n      <td>10182</td>\n      <td>10136</td>\n      <td>13</td>\n      <td>0</td>\n      <td>14</td>\n      <td>1</td>\n      <td>4</td>\n      <td>2</td>\n      <td>0</td>\n      <td>7</td>\n      <td>1</td>\n      <td>7</td>\n    </tr>\n    <tr>\n      <td>6369</td>\n      <td>6369</td>\n      <td>2680069</td>\n      <td>1583593200</td>\n      <td>10226</td>\n      <td>10012</td>\n      <td>6</td>\n      <td>0</td>\n      <td>15</td>\n      <td>0</td>\n      <td>0</td>\n      <td>1</td>\n      <td>0</td>\n      <td>5</td>\n      <td>5</td>\n      <td>5</td>\n    </tr>\n  </tbody>\n</table>\n<p>5919 rows × 15 columns</p>\n</div>",
      "text/plain": "      Unnamed: 0  match_id   open_date  home_team  away_team home_rank  \\\n380          380    100380  1287237600      10226      10176        19   \n381          381    100381  1287237600      10135      10005         3   \n382          382    100382  1287237600      10215      10008         4   \n383          383    100383  1287237600      10007      10246        12   \n384          384    100384  1287237600      10018      10183        10   \n...          ...       ...         ...        ...        ...       ...   \n6365        6365   2680065  1583584200      10249      10115         1   \n6366        6366   2680066  1583685000      10135      10181         7   \n6367        6367   2680067  1583593200      10021      10184         8   \n6368        6368   2680068  1583593200      10182      10136        13   \n6369        6369   2680069  1583593200      10226      10012         6   \n\n      home_score away_rank  away_score  history_won  history_drawn  \\\n380            1        20           1            0              0   \n381            2         6           2            2              1   \n382            2        16           1            3              1   \n383            2         7           1            1              1   \n384            1         5           2            3              3   \n...          ...       ...         ...          ...            ...   \n6365           2        18           1            3              1   \n6366           2         2           0            5              3   \n6367           1        20           0            0              0   \n6368           0        14           1            4              2   \n6369           0        15           0            0              1   \n\n      history_lost  recent_won  recent_drawn  recent_lost  \n380              1           7             6            2  \n381              0           6             5            4  \n382              0           9             4            2  \n383              0           5             6            4  \n384              0           6             8            1  \n...            ...         ...           ...          ...  \n6365             0           9             0            6  \n6366             7           7             4            4  \n6367             0           5             5            5  \n6368             0           7             1            7  \n6369             0           5             5            5  \n\n[5919 rows x 15 columns]"
     },
     "execution_count": 5,
     "metadata": {},
     "output_type": "execute_result"
    }
   ],
   "source": [
    "matches"
   ]
  },
  {
   "cell_type": "code",
   "execution_count": 6,
   "metadata": {},
   "outputs": [],
   "source": [
    "# 換算 歷史對戰、近期對戰 主隊贏球概率\n",
    "matches['history_total'] = matches['history_won'] + \\\n",
    "                            matches['history_drawn'] + \\\n",
    "                            matches['history_lost']\n",
    "matches['history_rate'] = matches['history_won'] / matches['history_total'] \n",
    "                            \n",
    "matches['recent_total'] = matches['recent_won'] + \\\n",
    "                            matches['recent_drawn'] + \\\n",
    "                            matches['recent_lost']\n",
    "matches['recent_rate'] = matches['recent_won'] / matches['recent_total'] "
   ]
  },
  {
   "cell_type": "code",
   "execution_count": 7,
   "metadata": {},
   "outputs": [],
   "source": [
    "# 清除null值\n",
    "matches = matches.dropna()\n",
    "\n",
    "# 移除 歷史 近期賽事 總場次為0 賽事\n",
    "matches = matches[~(matches['history_total'].isin([0]))]\n",
    "matches = matches[~(matches['recent_rate'].isin([0]))]\n",
    "\n",
    "# 移除不必要欄位\n",
    "matches = matches.drop(\n",
    "    columns=[\n",
    "        'open_date', \n",
    "        'history_won', \n",
    "        'history_drawn', \n",
    "        'history_lost', \n",
    "        'history_total',\n",
    "        'recent_won',\n",
    "        'recent_drawn',\n",
    "        'recent_lost',\n",
    "        'recent_rate'\n",
    "        ])"
   ]
  },
  {
   "cell_type": "code",
   "execution_count": 3,
   "metadata": {},
   "outputs": [
    {
     "data": {
      "text/html": "<div>\n<style scoped>\n    .dataframe tbody tr th:only-of-type {\n        vertical-align: middle;\n    }\n\n    .dataframe tbody tr th {\n        vertical-align: top;\n    }\n\n    .dataframe thead th {\n        text-align: right;\n    }\n</style>\n<table border=\"1\" class=\"dataframe\">\n  <thead>\n    <tr style=\"text-align: right;\">\n      <th></th>\n      <th>Unnamed: 0</th>\n      <th>match_id</th>\n      <th>open_date</th>\n      <th>home_team</th>\n      <th>away_team</th>\n      <th>home_rank</th>\n      <th>home_score</th>\n      <th>away_rank</th>\n      <th>away_score</th>\n      <th>season_id</th>\n      <th>name</th>\n    </tr>\n  </thead>\n  <tbody>\n    <tr>\n      <td>380</td>\n      <td>380</td>\n      <td>100380</td>\n      <td>1287237600</td>\n      <td>10226</td>\n      <td>10176</td>\n      <td>19</td>\n      <td>1</td>\n      <td>20</td>\n      <td>1</td>\n      <td>383</td>\n      <td>2010-2011</td>\n    </tr>\n    <tr>\n      <td>381</td>\n      <td>381</td>\n      <td>100381</td>\n      <td>1287237600</td>\n      <td>10135</td>\n      <td>10005</td>\n      <td>3</td>\n      <td>2</td>\n      <td>6</td>\n      <td>2</td>\n      <td>383</td>\n      <td>2010-2011</td>\n    </tr>\n    <tr>\n      <td>382</td>\n      <td>382</td>\n      <td>100382</td>\n      <td>1287237600</td>\n      <td>10215</td>\n      <td>10008</td>\n      <td>4</td>\n      <td>2</td>\n      <td>16</td>\n      <td>1</td>\n      <td>383</td>\n      <td>2010-2011</td>\n    </tr>\n    <tr>\n      <td>383</td>\n      <td>383</td>\n      <td>100383</td>\n      <td>1287237600</td>\n      <td>10007</td>\n      <td>10246</td>\n      <td>12</td>\n      <td>2</td>\n      <td>7</td>\n      <td>1</td>\n      <td>383</td>\n      <td>2010-2011</td>\n    </tr>\n    <tr>\n      <td>384</td>\n      <td>384</td>\n      <td>100384</td>\n      <td>1287237600</td>\n      <td>10018</td>\n      <td>10183</td>\n      <td>10</td>\n      <td>1</td>\n      <td>5</td>\n      <td>2</td>\n      <td>383</td>\n      <td>2010-2011</td>\n    </tr>\n    <tr>\n      <td>...</td>\n      <td>...</td>\n      <td>...</td>\n      <td>...</td>\n      <td>...</td>\n      <td>...</td>\n      <td>...</td>\n      <td>...</td>\n      <td>...</td>\n      <td>...</td>\n      <td>...</td>\n      <td>...</td>\n    </tr>\n    <tr>\n      <td>6365</td>\n      <td>6365</td>\n      <td>2680065</td>\n      <td>1583584200</td>\n      <td>10249</td>\n      <td>10115</td>\n      <td>1</td>\n      <td>2</td>\n      <td>18</td>\n      <td>1</td>\n      <td>9021</td>\n      <td>2019-2020</td>\n    </tr>\n    <tr>\n      <td>6366</td>\n      <td>6366</td>\n      <td>2680066</td>\n      <td>1583685000</td>\n      <td>10135</td>\n      <td>10181</td>\n      <td>7</td>\n      <td>2</td>\n      <td>2</td>\n      <td>0</td>\n      <td>9021</td>\n      <td>2019-2020</td>\n    </tr>\n    <tr>\n      <td>6367</td>\n      <td>6367</td>\n      <td>2680067</td>\n      <td>1583593200</td>\n      <td>10021</td>\n      <td>10184</td>\n      <td>8</td>\n      <td>1</td>\n      <td>20</td>\n      <td>0</td>\n      <td>9021</td>\n      <td>2019-2020</td>\n    </tr>\n    <tr>\n      <td>6368</td>\n      <td>6368</td>\n      <td>2680068</td>\n      <td>1583593200</td>\n      <td>10182</td>\n      <td>10136</td>\n      <td>13</td>\n      <td>0</td>\n      <td>14</td>\n      <td>1</td>\n      <td>9021</td>\n      <td>2019-2020</td>\n    </tr>\n    <tr>\n      <td>6369</td>\n      <td>6369</td>\n      <td>2680069</td>\n      <td>1583593200</td>\n      <td>10226</td>\n      <td>10012</td>\n      <td>6</td>\n      <td>0</td>\n      <td>15</td>\n      <td>0</td>\n      <td>9021</td>\n      <td>2019-2020</td>\n    </tr>\n  </tbody>\n</table>\n<p>5919 rows × 11 columns</p>\n</div>",
      "text/plain": "      Unnamed: 0  match_id   open_date  home_team  away_team home_rank  \\\n380          380    100380  1287237600      10226      10176        19   \n381          381    100381  1287237600      10135      10005         3   \n382          382    100382  1287237600      10215      10008         4   \n383          383    100383  1287237600      10007      10246        12   \n384          384    100384  1287237600      10018      10183        10   \n...          ...       ...         ...        ...        ...       ...   \n6365        6365   2680065  1583584200      10249      10115         1   \n6366        6366   2680066  1583685000      10135      10181         7   \n6367        6367   2680067  1583593200      10021      10184         8   \n6368        6368   2680068  1583593200      10182      10136        13   \n6369        6369   2680069  1583593200      10226      10012         6   \n\n      home_score away_rank  away_score  season_id       name  \n380            1        20           1        383  2010-2011  \n381            2         6           2        383  2010-2011  \n382            2        16           1        383  2010-2011  \n383            2         7           1        383  2010-2011  \n384            1         5           2        383  2010-2011  \n...          ...       ...         ...        ...        ...  \n6365           2        18           1       9021  2019-2020  \n6366           2         2           0       9021  2019-2020  \n6367           1        20           0       9021  2019-2020  \n6368           0        14           1       9021  2019-2020  \n6369           0        15           0       9021  2019-2020  \n\n[5919 rows x 11 columns]"
     },
     "execution_count": 3,
     "metadata": {},
     "output_type": "execute_result"
    }
   ],
   "source": [
    "matches"
   ]
  },
  {
   "cell_type": "code",
   "execution_count": null,
   "metadata": {},
   "outputs": [],
   "source": [
    "# 透過上個賽季資料計算 主、客 進攻、防守能力\n",
    "lastSeason = matches[matches['season_id'] == 8433]\n",
    "curSeason = matches[matches['season_id'] == 9021]"
   ]
  },
  {
   "cell_type": "code",
   "execution_count": 9,
   "metadata": {},
   "outputs": [],
   "source": [
    "# 整理情報資料\n",
    "intelligences = pd.read_csv(os.getcwd() + '/data/82/info.csv')\n",
    "\n",
    "# 移除重複資料\n",
    "intelligences.drop_duplicates(\n",
    "    ['match_id','info_type','team_info','level','content'],\n",
    "    keep='first',\n",
    "    inplace=True\n",
    ")\n",
    "\n",
    "# 移除 level 0 情報\n",
    "intelligences = intelligences[~(intelligences['level'].isin([0]))]\n",
    "\n",
    "# 分主客、情報好壞、level 計算數量\n",
    "intelligences = intelligences.groupby(['match_id', 'info_type', 'level'])\\\n",
    "                                 主、嗑['content'].size().reset_index(name='count')\n",
    "\n",
    "# 計算情報權重 = 筆數 * level\n",
    "intelligences['weights'] = intelligences['level'] * intelligences['count']"
   ]
  },
  {
   "cell_type": "code",
   "execution_count": 10,
   "metadata": {},
   "outputs": [],
   "source": [
    "# TODO 構造特徵\n",
    "\n",
    "# 主場球隊名\n",
    "# 客場球隊名\n",
    "# 全場 主場球隊進球數\n",
    "# 全場 客場球隊進球數\n",
    "# 比賽結果 ( H= 主場贏, D= 平局, A= 客場贏)\n",
    "# 比賽結果 ( 比分 )\n",
    "# 主場淨勝球數\n",
    "# 客場的淨胜球數\n",
    "# 主場累計得分\n",
    "# 客場累計得分\n",
    "# Poisson各比分機率\n",
    "\n",
    "# 統計某支隊伍最近三場比賽的表現\n",
    "# HM(n) 代表主場球隊上一次比賽的輸贏，\n",
    "# AM(n) 代表客場球隊上一次比賽是輸贏。\n",
    "\n",
    "# 加入比賽輪次為特徵（第幾個輪次MW）"
   ]
  },
  {
   "cell_type": "code",
   "execution_count": 11,
   "metadata": {},
   "outputs": [],
   "source": [
    "# TODO 清洗資料\n",
    "# 每場賽事特徵值皆是依據過往比賽所統計出來，因此最一開始前幾比資料無法統計信息不足，必須拋棄。"
   ]
  },
  {
   "cell_type": "code",
   "execution_count": 12,
   "metadata": {},
   "outputs": [],
   "source": [
    "# TODO 分析敘述資料、解決樣本不均衡(暫定)\n",
    "# 依照先前統計發現主場獲勝的比例接近 50% ，對於三分類(主、客、和)，標籤比例是不均衡的。\n",
    "# 因此需簡化為二分類問題，也就是主場球隊會不會勝利。"
   ]
  },
  {
   "cell_type": "code",
   "execution_count": 13,
   "metadata": {},
   "outputs": [],
   "source": [
    "# TODO 將數據拆分為「特徵值」與「標籤值」"
   ]
  },
  {
   "cell_type": "code",
   "execution_count": 14,
   "metadata": {},
   "outputs": [],
   "source": [
    "# TODO 數據標準化\n",
    "# 主場淨勝球數、客場的淨胜球數、主場累計得分、客場累計得分 數據內容區間範圍太大因此需正規劃"
   ]
  },
  {
   "cell_type": "code",
   "execution_count": 15,
   "metadata": {},
   "outputs": [],
   "source": [
    "# TODO 轉換特徵數據型態、預覽"
   ]
  },
  {
   "cell_type": "code",
   "execution_count": 16,
   "metadata": {},
   "outputs": [],
   "source": [
    "# TODO 數據關聯圖形化描述\n",
    "# 皮爾遜相關熱力圖"
   ]
  },
  {
   "cell_type": "code",
   "execution_count": 17,
   "metadata": {},
   "outputs": [],
   "source": [
    "# TODO 再次清潔數據\n",
    "# 依照關聯圖移除無異議數據"
   ]
  },
  {
   "cell_type": "code",
   "execution_count": 18,
   "metadata": {},
   "outputs": [],
   "source": [
    "# TODO 切割數據\n",
    "# 將數據集隨機分成為訓練集和測試集"
   ]
  },
  {
   "cell_type": "code",
   "execution_count": 19,
   "metadata": {},
   "outputs": [],
   "source": [
    "# TODO 建立模型\n",
    "# 支持向量機(SVM)"
   ]
  },
  {
   "cell_type": "code",
   "execution_count": 20,
   "metadata": {},
   "outputs": [],
   "source": [
    "# TODO 結果評估"
   ]
  },
  {
   "cell_type": "code",
   "execution_count": 21,
   "metadata": {},
   "outputs": [],
   "source": [
    "# TODO 參數調整"
   ]
  },
  {
   "cell_type": "code",
   "execution_count": 22,
   "metadata": {},
   "outputs": [],
   "source": [
    "# TODO 結論"
   ]
  },
  {
   "cell_type": "code",
   "execution_count": 23,
   "metadata": {},
   "outputs": [],
   "source": [
    "# 屍體 2 \n",
    "# # 合併整合資料\n",
    "# consolidationDF = pd.merge(matches, historyDF, how='outer', on=['match_id']) \n",
    "# consolidationDF = pd.merge(consolidationDF, recentDF, how='outer', on=['match_id']) \n",
    "# consolidationDF = consolidationDF.dropna()"
   ]
  },
  {
   "cell_type": "code",
   "execution_count": 24,
   "metadata": {},
   "outputs": [],
   "source": [
    "# 屍體\n",
    "# # 各球隊作為主場球隊時 進球表現\n",
    "# # 各球隊歷史交鋒(相同主客-近15場) \n",
    "# # 各球隊近期對戰(近15場) \n",
    "# history = []\n",
    "# recent = []\n",
    "# for index, row in matches.iterrows():\n",
    "#     matchId = row['match_id']\n",
    "#     openDate = row['open_date']\n",
    "#     home = row['home_team']\n",
    "#     away = row['away_team']\n",
    "#     df = matches.loc[\n",
    "#         (matches.open_date < openDate) & \n",
    "#         (matches.home_team == home) &\n",
    "#         (matches.away_team == away)] \n",
    "    \n",
    "#     df['result'] = np.where(\n",
    "#         (df['home_score'] > df['away_score']), 1, np.where(\n",
    "#         (df['home_score'] == df['away_score']), 0, 2))\n",
    "    \n",
    "#     df = df.sort_values(by=['open_date'],ascending=False).iloc[:15]\n",
    "\n",
    "#     history.append({\n",
    "#         'match_id': matchId,\n",
    "#         'history_won': df.loc[df.result == 1].shape[0],\n",
    "#         'history_drawn': df.loc[df.result == 0].shape[0],\n",
    "#         'history_lost': df.loc[df.result == 2].shape[0]\n",
    "#     })\n",
    "\n",
    "#     df = pd.concat([\n",
    "#         matches.loc[(matches.open_date < openDate) & (matches.home_team == home)],\n",
    "#         matches.loc[(matches.open_date < openDate) & (matches.away_team == home)],\n",
    "#         ], axis=0)\n",
    "\n",
    "#     df['result'] = np.where(\n",
    "#         (df['home_score'] > df['away_score']), 1, np.where(\n",
    "#         (df['home_score'] == df['away_score']), 0, 2))\n",
    "\n",
    "#     df = df.sort_values(by=['open_date'],ascending=False).iloc[:15]\n",
    "\n",
    "#     recent.append({\n",
    "#         'match_id': matchId,\n",
    "#         'recent_won': df.loc[df.result == 1].shape[0],\n",
    "#         'recent_drawn': df.loc[df.result == 0].shape[0],\n",
    "#         'recent_lost': df.loc[df.result == 2].shape[0]\n",
    "#     })\n",
    "\n",
    "# historyDF = pd.DataFrame.from_dict(history)\n",
    "# historyDF['history_rate'] = historyDF['history_won'] / (historyDF['history_won'] + historyDF['history_drawn'] + historyDF['history_lost'])\n",
    "\n",
    "# recentDF = pd.DataFrame.from_dict(recent)\n",
    "# recentDF['recent_rate'] = recentDF['recent_won'] / (recentDF['recent_won'] + recentDF['recent_drawn'] + recentDF['recent_lost'])"
   ]
  }
 ]
}